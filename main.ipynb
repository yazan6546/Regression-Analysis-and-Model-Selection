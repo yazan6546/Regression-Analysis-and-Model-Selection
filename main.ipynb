{
 "cells": [
  {
   "cell_type": "code",
   "execution_count": null,
   "metadata": {},
   "outputs": [],
   "source": [
    "%pip install kagglehub"
   ]
  },
  {
   "cell_type": "code",
   "execution_count": null,
   "metadata": {},
   "outputs": [],
   "source": [
    "import kagglehub\n",
    "\n",
    "# Download latest version\n",
    "path = kagglehub.dataset_download(\"ahmedwaelnasef/cars-dataset\")\n",
    "!mkdir data\n",
    "!cp {path}/cars.csv data/cars.csv\n"
   ]
  },
  {
   "cell_type": "code",
   "execution_count": 1,
   "metadata": {},
   "outputs": [],
   "source": [
    "import pandas as pd\n",
    "import numpy as np\n",
    "import re\n"
   ]
  },
  {
   "cell_type": "code",
   "execution_count": 2,
   "metadata": {},
   "outputs": [
    {
     "data": {
      "text/plain": [
       "seats\n",
       "5 Seater     3471\n",
       "4 Seater      847\n",
       "7 Seater      532\n",
       "2 Seater      428\n",
       "8 Seater      211\n",
       "             ... \n",
       "14.0            1\n",
       "13 Seater       1\n",
       "230             1\n",
       "220             1\n",
       "2.8             1\n",
       "Name: count, Length: 82, dtype: int64"
      ]
     },
     "execution_count": 2,
     "metadata": {},
     "output_type": "execute_result"
    }
   ],
   "source": [
    "df = pd.read_csv('data/cars.csv')\n",
    "df.head()\n",
    "df['seats'].value_counts()  \n"
   ]
  },
  {
   "cell_type": "code",
   "execution_count": 3,
   "metadata": {},
   "outputs": [],
   "source": [
    "string_columns = df.select_dtypes(include=['object']).columns\n",
    "df[string_columns] = df[string_columns].apply(lambda x: x.str.strip())"
   ]
  },
  {
   "cell_type": "code",
   "execution_count": null,
   "metadata": {},
   "outputs": [],
   "source": [
    "df.shape[0] - df[df['price'].str.contains(r'\\d', regex=True)].shape[0]"
   ]
  },
  {
   "cell_type": "code",
   "execution_count": null,
   "metadata": {},
   "outputs": [],
   "source": [
    "dataframe_no_price = df[df['price'].str.contains(r'^\\D*$', regex=True) == True]['price']\n",
    "dataframe_no_price.unique()"
   ]
  },
  {
   "cell_type": "code",
   "execution_count": null,
   "metadata": {},
   "outputs": [],
   "source": [
    "dataframe_no_price.nunique()"
   ]
  },
  {
   "cell_type": "code",
   "execution_count": 4,
   "metadata": {},
   "outputs": [],
   "source": [
    "df.drop_duplicates(inplace=True)"
   ]
  },
  {
   "cell_type": "code",
   "execution_count": 5,
   "metadata": {},
   "outputs": [
    {
     "name": "stdout",
     "output_type": "stream",
     "text": [
      "<class 'pandas.core.frame.DataFrame'>\n",
      "Index: 6292 entries, 0 to 6307\n",
      "Data columns (total 9 columns):\n",
      " #   Column           Non-Null Count  Dtype \n",
      "---  ------           --------------  ----- \n",
      " 0   car name         6292 non-null   object\n",
      " 1   price            6292 non-null   object\n",
      " 2   engine_capacity  6292 non-null   object\n",
      " 3   cylinder         5668 non-null   object\n",
      " 4   horse_power      6292 non-null   object\n",
      " 5   top_speed        6292 non-null   object\n",
      " 6   seats            6292 non-null   object\n",
      " 7   brand            6292 non-null   object\n",
      " 8   country          6292 non-null   object\n",
      "dtypes: object(9)\n",
      "memory usage: 491.6+ KB\n"
     ]
    }
   ],
   "source": [
    "df.info()"
   ]
  },
  {
   "cell_type": "code",
   "execution_count": null,
   "metadata": {},
   "outputs": [],
   "source": [
    "df['price'] = df['price'].astype(float)"
   ]
  },
  {
   "cell_type": "code",
   "execution_count": 13,
   "metadata": {},
   "outputs": [
    {
     "data": {
      "text/plain": [
       "car name             0\n",
       "engine_capacity      0\n",
       "cylinder           624\n",
       "horse_power          0\n",
       "top_speed            0\n",
       "seats                0\n",
       "brand                0\n",
       "country              0\n",
       "currency             0\n",
       "price                2\n",
       "dtype: int64"
      ]
     },
     "execution_count": 13,
     "metadata": {},
     "output_type": "execute_result"
    }
   ],
   "source": [
    "df.isna().sum()"
   ]
  },
  {
   "cell_type": "code",
   "execution_count": 6,
   "metadata": {},
   "outputs": [
    {
     "data": {
      "text/html": [
       "<div>\n",
       "<style scoped>\n",
       "    .dataframe tbody tr th:only-of-type {\n",
       "        vertical-align: middle;\n",
       "    }\n",
       "\n",
       "    .dataframe tbody tr th {\n",
       "        vertical-align: top;\n",
       "    }\n",
       "\n",
       "    .dataframe thead th {\n",
       "        text-align: right;\n",
       "    }\n",
       "</style>\n",
       "<table border=\"1\" class=\"dataframe\">\n",
       "  <thead>\n",
       "    <tr style=\"text-align: right;\">\n",
       "      <th></th>\n",
       "      <th>car name</th>\n",
       "      <th>engine_capacity</th>\n",
       "      <th>cylinder</th>\n",
       "      <th>horse_power</th>\n",
       "      <th>top_speed</th>\n",
       "      <th>seats</th>\n",
       "      <th>brand</th>\n",
       "      <th>country</th>\n",
       "      <th>currency</th>\n",
       "      <th>price</th>\n",
       "    </tr>\n",
       "  </thead>\n",
       "  <tbody>\n",
       "    <tr>\n",
       "      <th>0</th>\n",
       "      <td>Fiat 500e 2021 La Prima</td>\n",
       "      <td>0.0</td>\n",
       "      <td>N/A, Electric</td>\n",
       "      <td>Single</td>\n",
       "      <td>Automatic</td>\n",
       "      <td>150</td>\n",
       "      <td>fiat</td>\n",
       "      <td>ksa</td>\n",
       "      <td>NaN</td>\n",
       "      <td>NaN</td>\n",
       "    </tr>\n",
       "    <tr>\n",
       "      <th>1</th>\n",
       "      <td>Peugeot Traveller 2021 L3 VIP</td>\n",
       "      <td>2.0</td>\n",
       "      <td>4</td>\n",
       "      <td>180</td>\n",
       "      <td>8 Seater</td>\n",
       "      <td>8.8</td>\n",
       "      <td>peugeot</td>\n",
       "      <td>ksa</td>\n",
       "      <td>SAR</td>\n",
       "      <td>140,575</td>\n",
       "    </tr>\n",
       "    <tr>\n",
       "      <th>2</th>\n",
       "      <td>Suzuki Jimny 2021 1.5L Automatic</td>\n",
       "      <td>1.5</td>\n",
       "      <td>4</td>\n",
       "      <td>102</td>\n",
       "      <td>145</td>\n",
       "      <td>4 Seater</td>\n",
       "      <td>suzuki</td>\n",
       "      <td>ksa</td>\n",
       "      <td>SAR</td>\n",
       "      <td>98,785</td>\n",
       "    </tr>\n",
       "    <tr>\n",
       "      <th>3</th>\n",
       "      <td>Ford Bronco 2021 2.3T Big Bend</td>\n",
       "      <td>2.3</td>\n",
       "      <td>4</td>\n",
       "      <td>420</td>\n",
       "      <td>4 Seater</td>\n",
       "      <td>7.5</td>\n",
       "      <td>ford</td>\n",
       "      <td>ksa</td>\n",
       "      <td>SAR</td>\n",
       "      <td>198,000</td>\n",
       "    </tr>\n",
       "    <tr>\n",
       "      <th>4</th>\n",
       "      <td>Honda HR-V 2021 1.8 i-VTEC LX</td>\n",
       "      <td>1.8</td>\n",
       "      <td>4</td>\n",
       "      <td>140</td>\n",
       "      <td>190</td>\n",
       "      <td>5 Seater</td>\n",
       "      <td>honda</td>\n",
       "      <td>ksa</td>\n",
       "      <td>NaN</td>\n",
       "      <td>NaN</td>\n",
       "    </tr>\n",
       "  </tbody>\n",
       "</table>\n",
       "</div>"
      ],
      "text/plain": [
       "                           car name engine_capacity       cylinder  \\\n",
       "0           Fiat 500e 2021 La Prima             0.0  N/A, Electric   \n",
       "1     Peugeot Traveller 2021 L3 VIP             2.0              4   \n",
       "2  Suzuki Jimny 2021 1.5L Automatic             1.5              4   \n",
       "3    Ford Bronco 2021 2.3T Big Bend             2.3              4   \n",
       "4     Honda HR-V 2021 1.8 i-VTEC LX             1.8              4   \n",
       "\n",
       "  horse_power  top_speed     seats    brand country currency    price  \n",
       "0      Single  Automatic       150     fiat     ksa      NaN      NaN  \n",
       "1         180   8 Seater       8.8  peugeot     ksa      SAR  140,575  \n",
       "2         102        145  4 Seater   suzuki     ksa      SAR   98,785  \n",
       "3         420   4 Seater       7.5     ford     ksa      SAR  198,000  \n",
       "4         140        190  5 Seater    honda     ksa      NaN      NaN  "
      ]
     },
     "execution_count": 6,
     "metadata": {},
     "output_type": "execute_result"
    }
   ],
   "source": [
    "# Extract currency and number\n",
    "pattern = r'([A-Z]+)\\s([\\d,]+)'\n",
    "extracted = df['price'].str.extract(pattern, expand=True)\n",
    "\n",
    "# Rename columns for clarity\n",
    "extracted.columns = ['currency', 'amount']\n",
    "\n",
    "df = pd.concat([df, extracted], axis=1)\n",
    "df.drop(columns='price', inplace=True)\n",
    "\n",
    "df.rename(columns={'amount': 'price'}, inplace=True)\n",
    "\n",
    "# # Handle non-matching rows (e.g., fill NaN with 'Unknown' for currency and 0 for amount)\n",
    "# extracted['currency'].fillna('Unknown', inplace=True)\n",
    "# extracted['amount'].fillna('0', inplace=True)\n",
    "\n",
    "# print(extracted)\n",
    "df.head()"
   ]
  },
  {
   "cell_type": "code",
   "execution_count": 9,
   "metadata": {},
   "outputs": [],
   "source": [
    "df['price'] = df['price'].str.replace(',', '').astype(float)"
   ]
  },
  {
   "cell_type": "code",
   "execution_count": 10,
   "metadata": {},
   "outputs": [
    {
     "data": {
      "text/html": [
       "<div>\n",
       "<style scoped>\n",
       "    .dataframe tbody tr th:only-of-type {\n",
       "        vertical-align: middle;\n",
       "    }\n",
       "\n",
       "    .dataframe tbody tr th {\n",
       "        vertical-align: top;\n",
       "    }\n",
       "\n",
       "    .dataframe thead th {\n",
       "        text-align: right;\n",
       "    }\n",
       "</style>\n",
       "<table border=\"1\" class=\"dataframe\">\n",
       "  <thead>\n",
       "    <tr style=\"text-align: right;\">\n",
       "      <th></th>\n",
       "      <th>car name</th>\n",
       "      <th>engine_capacity</th>\n",
       "      <th>cylinder</th>\n",
       "      <th>horse_power</th>\n",
       "      <th>top_speed</th>\n",
       "      <th>seats</th>\n",
       "      <th>brand</th>\n",
       "      <th>country</th>\n",
       "      <th>currency</th>\n",
       "      <th>price</th>\n",
       "    </tr>\n",
       "  </thead>\n",
       "  <tbody>\n",
       "    <tr>\n",
       "      <th>0</th>\n",
       "      <td>Fiat 500e 2021 La Prima</td>\n",
       "      <td>0.0</td>\n",
       "      <td>N/A, Electric</td>\n",
       "      <td>Single</td>\n",
       "      <td>Automatic</td>\n",
       "      <td>150</td>\n",
       "      <td>fiat</td>\n",
       "      <td>ksa</td>\n",
       "      <td>SAR</td>\n",
       "      <td>NaN</td>\n",
       "    </tr>\n",
       "    <tr>\n",
       "      <th>1</th>\n",
       "      <td>Peugeot Traveller 2021 L3 VIP</td>\n",
       "      <td>2.0</td>\n",
       "      <td>4</td>\n",
       "      <td>180</td>\n",
       "      <td>8 Seater</td>\n",
       "      <td>8.8</td>\n",
       "      <td>peugeot</td>\n",
       "      <td>ksa</td>\n",
       "      <td>SAR</td>\n",
       "      <td>37955.25</td>\n",
       "    </tr>\n",
       "    <tr>\n",
       "      <th>2</th>\n",
       "      <td>Suzuki Jimny 2021 1.5L Automatic</td>\n",
       "      <td>1.5</td>\n",
       "      <td>4</td>\n",
       "      <td>102</td>\n",
       "      <td>145</td>\n",
       "      <td>4 Seater</td>\n",
       "      <td>suzuki</td>\n",
       "      <td>ksa</td>\n",
       "      <td>SAR</td>\n",
       "      <td>26671.95</td>\n",
       "    </tr>\n",
       "    <tr>\n",
       "      <th>3</th>\n",
       "      <td>Ford Bronco 2021 2.3T Big Bend</td>\n",
       "      <td>2.3</td>\n",
       "      <td>4</td>\n",
       "      <td>420</td>\n",
       "      <td>4 Seater</td>\n",
       "      <td>7.5</td>\n",
       "      <td>ford</td>\n",
       "      <td>ksa</td>\n",
       "      <td>SAR</td>\n",
       "      <td>53460.00</td>\n",
       "    </tr>\n",
       "    <tr>\n",
       "      <th>4</th>\n",
       "      <td>Honda HR-V 2021 1.8 i-VTEC LX</td>\n",
       "      <td>1.8</td>\n",
       "      <td>4</td>\n",
       "      <td>140</td>\n",
       "      <td>190</td>\n",
       "      <td>5 Seater</td>\n",
       "      <td>honda</td>\n",
       "      <td>ksa</td>\n",
       "      <td>SAR</td>\n",
       "      <td>NaN</td>\n",
       "    </tr>\n",
       "  </tbody>\n",
       "</table>\n",
       "</div>"
      ],
      "text/plain": [
       "                           car name engine_capacity       cylinder  \\\n",
       "0           Fiat 500e 2021 La Prima             0.0  N/A, Electric   \n",
       "1     Peugeot Traveller 2021 L3 VIP             2.0              4   \n",
       "2  Suzuki Jimny 2021 1.5L Automatic             1.5              4   \n",
       "3    Ford Bronco 2021 2.3T Big Bend             2.3              4   \n",
       "4     Honda HR-V 2021 1.8 i-VTEC LX             1.8              4   \n",
       "\n",
       "  horse_power  top_speed     seats    brand country currency     price  \n",
       "0      Single  Automatic       150     fiat     ksa      SAR       NaN  \n",
       "1         180   8 Seater       8.8  peugeot     ksa      SAR  37955.25  \n",
       "2         102        145  4 Seater   suzuki     ksa      SAR  26671.95  \n",
       "3         420   4 Seater       7.5     ford     ksa      SAR  53460.00  \n",
       "4         140        190  5 Seater    honda     ksa      SAR       NaN  "
      ]
     },
     "execution_count": 10,
     "metadata": {},
     "output_type": "execute_result"
    }
   ],
   "source": [
    "\n",
    "\n",
    "# Dictionary for mapping country to currency\n",
    "country_to_currency = {\n",
    "    'ksa': 'SAR',      # Saudi Riyal\n",
    "    'egypt': 'EGP',    # Egyptian Pound\n",
    "    'bahrain': 'BHD',  # Bahraini Dinar\n",
    "    'qatar': 'QAR',    # Qatari Riyal\n",
    "    'oman': 'OMR',     # Omani Rial\n",
    "    'kuwait': 'KWD',   # Kuwaiti Dinar\n",
    "    'uae': 'AED'       # United Arab Emirates Dirham\n",
    "}\n",
    "\n",
    "# Dictionary for mapping currency to USD exchange rate\n",
    "currency_to_usd = {\n",
    "    'SAR': 0.27,  # Saudi Riyal to USD\n",
    "    'EGP': 0.032, # Egyptian Pound to USD\n",
    "    'BHD': 2.65,  # Bahraini Dinar to USD\n",
    "    'QAR': 0.27,  # Qatari Riyal to USD\n",
    "    'OMR': 2.60,  # Omani Rial to USD\n",
    "    'KWD': 3.30,  # Kuwaiti Dinar to USD\n",
    "    'AED': 0.27   # United Arab Emirates Dirham to USD\n",
    "}\n",
    "\n",
    "# Map country to currency\n",
    "df['currency'] = df['country'].map(country_to_currency)\n",
    "\n",
    "df['price'] = df.apply(lambda row: row['price'] * currency_to_usd[row['currency']], axis=1)\n",
    "\n",
    "# Compute the mean price for each country\n",
    "mean_prices = df.groupby('car name')['price'].transform('mean')\n",
    "\n",
    "# Replace only the missing values with the mean price of their respective groups\n",
    "df['price'] = df['price'].fillna(mean_prices)\n",
    "\n",
    "\n",
    "# Convert prices to USD\n",
    "df.head()"
   ]
  },
  {
   "cell_type": "code",
   "execution_count": 12,
   "metadata": {},
   "outputs": [],
   "source": [
    "median_na = df.groupby('brand')['price'].transform('median')\n",
    "df['price'] = df['price'].fillna(median_na)\n"
   ]
  },
  {
   "cell_type": "code",
   "execution_count": 14,
   "metadata": {},
   "outputs": [
    {
     "data": {
      "text/html": [
       "<div>\n",
       "<style scoped>\n",
       "    .dataframe tbody tr th:only-of-type {\n",
       "        vertical-align: middle;\n",
       "    }\n",
       "\n",
       "    .dataframe tbody tr th {\n",
       "        vertical-align: top;\n",
       "    }\n",
       "\n",
       "    .dataframe thead th {\n",
       "        text-align: right;\n",
       "    }\n",
       "</style>\n",
       "<table border=\"1\" class=\"dataframe\">\n",
       "  <thead>\n",
       "    <tr style=\"text-align: right;\">\n",
       "      <th></th>\n",
       "      <th>car name</th>\n",
       "      <th>engine_capacity</th>\n",
       "      <th>cylinder</th>\n",
       "      <th>horse_power</th>\n",
       "      <th>top_speed</th>\n",
       "      <th>seats</th>\n",
       "      <th>brand</th>\n",
       "      <th>country</th>\n",
       "      <th>currency</th>\n",
       "      <th>price</th>\n",
       "    </tr>\n",
       "  </thead>\n",
       "  <tbody>\n",
       "    <tr>\n",
       "      <th>0</th>\n",
       "      <td>Fiat 500e 2021 La Prima</td>\n",
       "      <td>0.0</td>\n",
       "      <td>N/A, Electric</td>\n",
       "      <td>Single</td>\n",
       "      <td>Automatic</td>\n",
       "      <td>150</td>\n",
       "      <td>fiat</td>\n",
       "      <td>ksa</td>\n",
       "      <td>SAR</td>\n",
       "      <td>19610.000</td>\n",
       "    </tr>\n",
       "    <tr>\n",
       "      <th>1</th>\n",
       "      <td>Peugeot Traveller 2021 L3 VIP</td>\n",
       "      <td>2.0</td>\n",
       "      <td>4</td>\n",
       "      <td>180</td>\n",
       "      <td>8 Seater</td>\n",
       "      <td>8.8</td>\n",
       "      <td>peugeot</td>\n",
       "      <td>ksa</td>\n",
       "      <td>SAR</td>\n",
       "      <td>37955.250</td>\n",
       "    </tr>\n",
       "    <tr>\n",
       "      <th>2</th>\n",
       "      <td>Suzuki Jimny 2021 1.5L Automatic</td>\n",
       "      <td>1.5</td>\n",
       "      <td>4</td>\n",
       "      <td>102</td>\n",
       "      <td>145</td>\n",
       "      <td>4 Seater</td>\n",
       "      <td>suzuki</td>\n",
       "      <td>ksa</td>\n",
       "      <td>SAR</td>\n",
       "      <td>26671.950</td>\n",
       "    </tr>\n",
       "    <tr>\n",
       "      <th>3</th>\n",
       "      <td>Ford Bronco 2021 2.3T Big Bend</td>\n",
       "      <td>2.3</td>\n",
       "      <td>4</td>\n",
       "      <td>420</td>\n",
       "      <td>4 Seater</td>\n",
       "      <td>7.5</td>\n",
       "      <td>ford</td>\n",
       "      <td>ksa</td>\n",
       "      <td>SAR</td>\n",
       "      <td>53460.000</td>\n",
       "    </tr>\n",
       "    <tr>\n",
       "      <th>4</th>\n",
       "      <td>Honda HR-V 2021 1.8 i-VTEC LX</td>\n",
       "      <td>1.8</td>\n",
       "      <td>4</td>\n",
       "      <td>140</td>\n",
       "      <td>190</td>\n",
       "      <td>5 Seater</td>\n",
       "      <td>honda</td>\n",
       "      <td>ksa</td>\n",
       "      <td>SAR</td>\n",
       "      <td>28179.975</td>\n",
       "    </tr>\n",
       "  </tbody>\n",
       "</table>\n",
       "</div>"
      ],
      "text/plain": [
       "                           car name engine_capacity       cylinder  \\\n",
       "0           Fiat 500e 2021 La Prima             0.0  N/A, Electric   \n",
       "1     Peugeot Traveller 2021 L3 VIP             2.0              4   \n",
       "2  Suzuki Jimny 2021 1.5L Automatic             1.5              4   \n",
       "3    Ford Bronco 2021 2.3T Big Bend             2.3              4   \n",
       "4     Honda HR-V 2021 1.8 i-VTEC LX             1.8              4   \n",
       "\n",
       "  horse_power  top_speed     seats    brand country currency      price  \n",
       "0      Single  Automatic       150     fiat     ksa      SAR  19610.000  \n",
       "1         180   8 Seater       8.8  peugeot     ksa      SAR  37955.250  \n",
       "2         102        145  4 Seater   suzuki     ksa      SAR  26671.950  \n",
       "3         420   4 Seater       7.5     ford     ksa      SAR  53460.000  \n",
       "4         140        190  5 Seater    honda     ksa      SAR  28179.975  "
      ]
     },
     "execution_count": 14,
     "metadata": {},
     "output_type": "execute_result"
    }
   ],
   "source": [
    "df.head()"
   ]
  },
  {
   "cell_type": "code",
   "execution_count": 15,
   "metadata": {},
   "outputs": [
    {
     "data": {
      "text/plain": [
       "car name             0\n",
       "engine_capacity      0\n",
       "cylinder           624\n",
       "horse_power          0\n",
       "top_speed            0\n",
       "seats                0\n",
       "brand                0\n",
       "country              0\n",
       "currency             0\n",
       "price                0\n",
       "dtype: int64"
      ]
     },
     "execution_count": 15,
     "metadata": {},
     "output_type": "execute_result"
    }
   ],
   "source": [
    "df.dropna(subset=['price'], inplace=True)\n",
    "df.isna().sum()"
   ]
  },
  {
   "cell_type": "code",
   "execution_count": null,
   "metadata": {},
   "outputs": [],
   "source": [
    "df.drop(columns=['currency', 'price'], inplace=True)"
   ]
  },
  {
   "cell_type": "code",
   "execution_count": null,
   "metadata": {},
   "outputs": [],
   "source": [
    "df.reset_index(drop=True, inplace=True)"
   ]
  },
  {
   "cell_type": "code",
   "execution_count": null,
   "metadata": {},
   "outputs": [],
   "source": [
    "indices = df[df['top_speed'].str.contains('Seater')].index\n",
    "\n",
    "temp = df.loc[indices, 'seats']\n",
    "df.loc[indices, 'seats'] = df['top_speed']\n",
    "df.loc[indices, 'top_speed'] = temp"
   ]
  },
  {
   "cell_type": "code",
   "execution_count": null,
   "metadata": {},
   "outputs": [],
   "source": [
    "df['top_speed'].str.contains('Seater').sum()"
   ]
  },
  {
   "cell_type": "code",
   "execution_count": null,
   "metadata": {},
   "outputs": [],
   "source": [
    "df.loc[indices, 'top_speed'].head(20)"
   ]
  },
  {
   "cell_type": "code",
   "execution_count": null,
   "metadata": {},
   "outputs": [],
   "source": [
    "df.isna().sum()"
   ]
  },
  {
   "cell_type": "code",
   "execution_count": null,
   "metadata": {},
   "outputs": [],
   "source": []
  },
  {
   "cell_type": "code",
   "execution_count": null,
   "metadata": {},
   "outputs": [],
   "source": [
    "df[df['price_usd'].isna()]"
   ]
  },
  {
   "cell_type": "code",
   "execution_count": null,
   "metadata": {},
   "outputs": [],
   "source": [
    "df[df['brand'] == 'dorcen']"
   ]
  },
  {
   "cell_type": "code",
   "execution_count": null,
   "metadata": {},
   "outputs": [],
   "source": [
    "df['seats'].value_counts()"
   ]
  },
  {
   "cell_type": "code",
   "execution_count": null,
   "metadata": {},
   "outputs": [],
   "source": [
    "df['car name'].value_counts()"
   ]
  },
  {
   "cell_type": "code",
   "execution_count": null,
   "metadata": {},
   "outputs": [],
   "source": [
    "df[df['car name'] == 'BMW 5 Series 2021 520i']"
   ]
  },
  {
   "cell_type": "code",
   "execution_count": null,
   "metadata": {},
   "outputs": [],
   "source": []
  },
  {
   "cell_type": "code",
   "execution_count": null,
   "metadata": {},
   "outputs": [],
   "source": [
    "# Columns to process\n",
    "columns = ['seats', 'engine_capacity', 'brand', 'top_speed', 'cylinder', 'horse_power']\n",
    "\n",
    "# Function to get the mode (most frequent value)\n",
    "def get_mode(series):\n",
    "    mode = series.mode()\n",
    "    return mode[0] if not mode.empty else None\n",
    "\n",
    "df[columns] = df.groupby('car name')[columns].transform(get_mode)"
   ]
  },
  {
   "cell_type": "code",
   "execution_count": null,
   "metadata": {},
   "outputs": [],
   "source": [
    "df[df['car name'] == 'BMW 5 Series 2021 520i']"
   ]
  },
  {
   "cell_type": "code",
   "execution_count": null,
   "metadata": {},
   "outputs": [],
   "source": [
    "df['price']"
   ]
  },
  {
   "cell_type": "code",
   "execution_count": null,
   "metadata": {},
   "outputs": [],
   "source": [
    "df[df['car name'].duplicated()]"
   ]
  },
  {
   "cell_type": "code",
   "execution_count": null,
   "metadata": {},
   "outputs": [],
   "source": [
    "df['country'].unique()"
   ]
  },
  {
   "cell_type": "code",
   "execution_count": null,
   "metadata": {},
   "outputs": [],
   "source": [
    "df[df['car name'] == 'Aston Martin DBS Superleggera 2021 5.2T V12']"
   ]
  },
  {
   "cell_type": "code",
   "execution_count": null,
   "metadata": {},
   "outputs": [],
   "source": [
    "df['car name'].nunique()"
   ]
  },
  {
   "cell_type": "code",
   "execution_count": null,
   "metadata": {},
   "outputs": [],
   "source": [
    "df['country'].nunique()"
   ]
  },
  {
   "cell_type": "code",
   "execution_count": null,
   "metadata": {},
   "outputs": [],
   "source": []
  },
  {
   "cell_type": "code",
   "execution_count": null,
   "metadata": {},
   "outputs": [],
   "source": [
    "df.loc[indices]"
   ]
  },
  {
   "cell_type": "code",
   "execution_count": null,
   "metadata": {},
   "outputs": [],
   "source": [
    "df[df['car name'] == 'Fiat 500e 2021 La Prima']"
   ]
  },
  {
   "cell_type": "code",
   "execution_count": null,
   "metadata": {},
   "outputs": [],
   "source": [
    "df[df['car name'] == 'Peugeot Traveller 2021 L3 VIP']"
   ]
  },
  {
   "cell_type": "code",
   "execution_count": null,
   "metadata": {},
   "outputs": [],
   "source": [
    "df['seats'].head()"
   ]
  },
  {
   "cell_type": "code",
   "execution_count": null,
   "metadata": {},
   "outputs": [],
   "source": [
    "df['seats'] = df['seats'].apply(lambda x: re.findall(r'\\d+', x)[0] if type(x) == str else x)"
   ]
  },
  {
   "cell_type": "code",
   "execution_count": null,
   "metadata": {},
   "outputs": [],
   "source": [
    "df.info()\n"
   ]
  },
  {
   "cell_type": "code",
   "execution_count": null,
   "metadata": {},
   "outputs": [],
   "source": [
    "df.head(5)"
   ]
  },
  {
   "cell_type": "code",
   "execution_count": null,
   "metadata": {},
   "outputs": [],
   "source": [
    "# mask = df['top_speed'].str.contains('Seater', case=False)\n",
    "# df.drop(df[mask].index, inplace=True)\n",
    "# df.reset_index(drop=True, inplace=True)"
   ]
  },
  {
   "cell_type": "code",
   "execution_count": null,
   "metadata": {},
   "outputs": [],
   "source": [
    "df['seats'] = df['seats'].apply(lambda x: x if 'seater' not in x.lower() else x[0])"
   ]
  },
  {
   "cell_type": "code",
   "execution_count": null,
   "metadata": {},
   "outputs": [],
   "source": [
    "# Check if 'seats' column contains no numbers\n",
    "mask = df['seats'].str.contains(r'^\\D+$', regex=True)\n",
    "\n",
    "mask.sum()\n",
    "# df[mask==True]"
   ]
  },
  {
   "cell_type": "code",
   "execution_count": null,
   "metadata": {},
   "outputs": [],
   "source": [
    "df['seats'].replace('N A', np.nan, inplace=True)"
   ]
  },
  {
   "cell_type": "code",
   "execution_count": null,
   "metadata": {},
   "outputs": [],
   "source": [
    "df[mask]"
   ]
  },
  {
   "cell_type": "code",
   "execution_count": null,
   "metadata": {},
   "outputs": [],
   "source": []
  },
  {
   "cell_type": "code",
   "execution_count": null,
   "metadata": {},
   "outputs": [],
   "source": [
    "df.drop(df[mask==True].index, inplace=True)\n",
    "df.reset_index(drop=True, inplace=True)\n",
    "df\n"
   ]
  },
  {
   "cell_type": "code",
   "execution_count": null,
   "metadata": {},
   "outputs": [],
   "source": [
    "df['seats'].isna().sum()"
   ]
  },
  {
   "cell_type": "code",
   "execution_count": null,
   "metadata": {},
   "outputs": [],
   "source": [
    "df.isna().sum()"
   ]
  },
  {
   "cell_type": "code",
   "execution_count": null,
   "metadata": {},
   "outputs": [],
   "source": [
    "index = df['cylinder'].str.contains('Electric', case=False).index\n",
    "df.loc[index, 'cylinder'] = 0"
   ]
  },
  {
   "cell_type": "code",
   "execution_count": null,
   "metadata": {},
   "outputs": [],
   "source": [
    "df.head(5)"
   ]
  },
  {
   "cell_type": "code",
   "execution_count": null,
   "metadata": {},
   "outputs": [],
   "source": [
    "df['cylinder'].value_counts()"
   ]
  },
  {
   "cell_type": "code",
   "execution_count": null,
   "metadata": {},
   "outputs": [],
   "source": [
    "df['country'].value_counts()"
   ]
  },
  {
   "cell_type": "code",
   "execution_count": null,
   "metadata": {},
   "outputs": [],
   "source": [
    "df['brand'].value_counts()"
   ]
  },
  {
   "cell_type": "code",
   "execution_count": null,
   "metadata": {},
   "outputs": [],
   "source": [
    "# df['cylinder'] = df['cylinder'].replace('N/A, Electric', pd.NA)\n",
    "# df.isna().sum()"
   ]
  },
  {
   "cell_type": "code",
   "execution_count": null,
   "metadata": {},
   "outputs": [],
   "source": [
    "df.dropna(inplace=True)\n"
   ]
  },
  {
   "cell_type": "code",
   "execution_count": null,
   "metadata": {},
   "outputs": [],
   "source": [
    "df['price'].value_counts()"
   ]
  },
  {
   "cell_type": "code",
   "execution_count": null,
   "metadata": {},
   "outputs": [],
   "source": [
    "df['top_speed'].value_counts()\n",
    "df['seats'].value_counts()"
   ]
  },
  {
   "cell_type": "code",
   "execution_count": null,
   "metadata": {},
   "outputs": [],
   "source": [
    " \n",
    "\n",
    "df['seats'] = df['seats'].str.extract('(\\d+)')\n",
    "\n",
    "df['seats'].value_counts()"
   ]
  }
 ],
 "metadata": {
  "kernelspec": {
   "display_name": ".venv",
   "language": "python",
   "name": "python3"
  },
  "language_info": {
   "codemirror_mode": {
    "name": "ipython",
    "version": 3
   },
   "file_extension": ".py",
   "mimetype": "text/x-python",
   "name": "python",
   "nbconvert_exporter": "python",
   "pygments_lexer": "ipython3",
   "version": "3.12.1"
  }
 },
 "nbformat": 4,
 "nbformat_minor": 2
}
