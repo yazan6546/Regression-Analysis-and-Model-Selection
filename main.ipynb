{
 "cells": [
  {
   "cell_type": "code",
   "metadata": {},
   "source": [
    "import pandas as pd\n",
    "import numpy as np\n",
    "from sklearn.model_selection import train_test_split\n",
    "from category_encoders import MEstimateEncoder\n",
    "from sklearn.preprocessing import MinMaxScaler,PolynomialFeatures\n",
    "import regression as reg\n",
    "import matplotlib.pyplot as plt\n",
    "from sklearn.metrics import mean_squared_error,mean_absolute_error,r2_score\n",
    "from sklearn.linear_model import LinearRegression,Lasso,Ridge\n",
    "from sklearn.model_selection import GridSearchCV\n",
    "from sklearn.svm import SVR \n",
    "from IPython.display import display"
   ],
   "outputs": [],
   "execution_count": null
  },
  {
   "cell_type": "code",
   "metadata": {},
   "source": [
    "#Reading the dataset\n",
    "df = pd.read_csv('data/cleaned_cars.csv')\n",
    "df = pd.get_dummies(df, columns = ['country'], drop_first=True, dtype=np.int8)\n",
    "df.head()"
   ],
   "outputs": [],
   "execution_count": null
  },
  {
   "cell_type": "markdown",
   "metadata": {},
   "source": [
    "## Target encoding"
   ]
  },
  {
   "cell_type": "code",
   "metadata": {},
   "source": [
    "X = df.copy()\n",
    "y = X.pop('price')\n",
    "\n",
    "X_encode = X.sample(frac=0.2, random_state=42)\n",
    "y_encode = y[X_encode.index]\n",
    "X = X.drop(X_encode.index)\n",
    "y = y[X.index]\n",
    "\n",
    "#Creating the encoder instance.\n",
    "encoder = MEstimateEncoder(cols=[\"brand\"], m=5.0)\n",
    "\n",
    "#Fitting the encoder on the encoding split.\n",
    "encoder.fit(X_encode, y_encode)\n",
    "\n",
    "#Encoding the Zipcode column to create the final training data\n",
    "X = encoder.transform(X)\n",
    "X.reset_index(drop=True, inplace=True)\n",
    "y.reset_index(drop=True, inplace=True)  \n",
    "\n",
    "X.head()"
   ],
   "outputs": [],
   "execution_count": null
  },
  {
   "cell_type": "markdown",
   "metadata": {},
   "source": []
  },
  {
   "cell_type": "code",
   "metadata": {},
   "source": [
    "X.head()"
   ],
   "outputs": [],
   "execution_count": null
  },
  {
   "cell_type": "code",
   "metadata": {},
   "source": [
    "y.head()"
   ],
   "outputs": [],
   "execution_count": null
  },
  {
   "cell_type": "code",
   "metadata": {},
   "source": [
    "#Splitting the dataset into training (60%) and temporary (40%) sets with a fixed random_state\n",
    "X_train, X_temp, y_train, y_temp = train_test_split(X, y, test_size=0.4, random_state=42)\n",
    "\n",
    "#Splitting the temporary set into validation (50% of temporary, i.e., 20% of total) and test (50% of temporary, i.e., 20% of total) sets with the same random_state\n",
    "X_val, X_test, y_val, y_test = train_test_split(X_temp, y_temp, test_size=0.5, random_state=42)\n"
   ],
   "outputs": [],
   "execution_count": null
  },
  {
   "cell_type": "code",
   "metadata": {},
   "source": [
    "#Scaling the input features\n",
    "scaler = MinMaxScaler()\n",
    "X_train_scaled = scaler.fit_transform(X_train)\n",
    "X_val_scaled = scaler.transform(X_val)\n",
    "X_test_scaled = scaler.transform(X_test)"
   ],
   "outputs": [],
   "execution_count": null
  },
  {
   "cell_type": "markdown",
   "metadata": {},
   "source": [
    "## No API part"
   ]
  },
  {
   "cell_type": "code",
   "metadata": {},
   "source": [
    "w = reg.linear_regression_fit(X_train_scaled, y_train)\n",
    "y_predict = reg.linear_regression_predict(X_test_scaled, w)\n"
   ],
   "outputs": [],
   "execution_count": null
  },
  {
   "cell_type": "code",
   "metadata": {},
   "source": [
    "# Calculate mean squared error\n",
    "mse = mean_squared_error(y_predict, y_test)\n",
    "print(f\"Mean Squared Error: {mse}\")"
   ],
   "outputs": [],
   "execution_count": null
  },
  {
   "cell_type": "code",
   "metadata": {},
   "source": [
    "num_iterations = 1000\n",
    "w, errors = reg.gradient_descent(X_train_scaled, y_train, 0.01, num_iterations)\n",
    "print(w.shape)\n",
    "y_predict = reg.linear_regression_predict(X_test_scaled, w)\n",
    "mean_squared_error(y_predict, y_test)"
   ],
   "outputs": [],
   "execution_count": null
  },
  {
   "cell_type": "code",
   "metadata": {},
   "source": [
    "plt.figure(figsize=(10, 6))\n",
    "plt.plot(range(num_iterations), errors)\n",
    "plt.xlabel('Iteration')\n",
    "plt.ylabel('Error')\n",
    "plt.title('Gradient Descent Error')\n",
    "plt.legend()\n",
    "plt.show()"
   ],
   "outputs": [],
   "execution_count": null
  },
  {
   "cell_type": "markdown",
   "metadata": {},
   "source": "## Regression Models Implementation(API)"
  },
  {
   "metadata": {},
   "cell_type": "code",
   "source": [
    "lin_model = LinearRegression()\n",
    "lin_model.fit(X_train_scaled, y_train)"
   ],
   "outputs": [],
   "execution_count": null
  },
  {
   "cell_type": "code",
   "metadata": {},
   "source": [
    "lasso = Lasso()\n",
    "lasso.fit(X_train_scaled, y_train)"
   ],
   "outputs": [],
   "execution_count": null
  },
  {
   "cell_type": "code",
   "metadata": {},
   "source": [
    "ridge = Ridge()\n",
    "ridge.fit(X_train_scaled, y_train)"
   ],
   "outputs": [],
   "execution_count": null
  },
  {
   "metadata": {
    "ExecuteTime": {
     "end_time": "2024-11-28T20:57:06.087606Z",
     "start_time": "2024-11-28T20:57:04.857876Z"
    }
   },
   "cell_type": "code",
   "source": [
    "#Visualizing \n",
    "y_pred_lin_val = lin_model.predict(X_val_scaled)\n",
    "y_pred_lasso_val = lasso.predict(X_val_scaled)\n",
    "y_pred_ridge_val = ridge.predict(X_val_scaled)\n",
    "\n",
    "residuals_lin_val = y_val - y_pred_lin_val\n",
    "residuals_lasso_val = y_val - y_pred_lasso_val\n",
    "residuals_ridge_val = y_val - y_pred_ridge_val\n",
    "fig, axes = plt.subplots(1, 3, figsize=(15, 6))\n",
    "axes[0].hist(residuals_lin_val, bins=30, edgecolor='black')\n",
    "axes[0].set_xlabel('Residuals')\n",
    "axes[0].set_ylabel('Frequency')\n",
    "axes[0].set_title('Linear Regression Residuals')\n",
    "axes[1].hist(residuals_lasso_val, bins=30, edgecolor='black')\n",
    "axes[1].set_xlabel('Residuals')\n",
    "axes[1].set_ylabel('Frequency')\n",
    "axes[1].set_title('Lasso Residuals')\n",
    "axes[2].hist(residuals_ridge_val, bins=30, edgecolor='black')\n",
    "axes[2].set_xlabel('Residuals')\n",
    "axes[2].set_ylabel('Frequency')\n",
    "axes[2].set_title('Ridge Residuals')\n",
    "plt.tight_layout()\n",
    "plt.show()"
   ],
   "outputs": [
    {
     "data": {
      "text/plain": [
       "<Figure size 1500x600 with 3 Axes>"
      ],
      "image/png": "[encoded data removed]"
     },
     "metadata": {},
     "output_type": "display_data"
    }
   ],
   "execution_count": 30
  },
  {
   "metadata": {},
   "cell_type": "code",
   "source": [
    "#Implemnting Polynomial Regression and Testing Degrees\n",
    "max_degree = 5\n",
    "n = len(y_train)\n",
    "k = X_train_scaled.shape[1]\n",
    "bic_scores = []  \n",
    "mse_scores = []\n",
    "mae_scores = []\n",
    "r2_scores = []\n",
    "degrees = range(2, max_degree + 1)\n",
    "#Testing BIC score for multiple degrees\n",
    "for degree in degrees:\n",
    "\n",
    "    poly = PolynomialFeatures(degree=degree)\n",
    "    x_train_poly = poly.fit_transform(X_train_scaled)\n",
    "    x_val_poly = poly.fit_transform(X_val_scaled)\n",
    "    model = LinearRegression()\n",
    "    model.fit(x_train_poly, y_train)\n",
    "    y_val_pred = model.predict(x_val_poly)\n",
    "    mse = mean_squared_error(y_val, y_val_pred)\n",
    "    mae = mean_absolute_error(y_val, y_val_pred)\n",
    "    r2 = r2_score(y_val, y_val_pred)\n",
    "    rss = np.sum((y_val - y_val_pred) ** 2)\n",
    "    n = len(y_val)\n",
    "    k = x_val_poly.shape[1]\n",
    "    bic = k * np.log(rss / n) + k * np.log(n)\n",
    "    bic_scores.append(bic)\n",
    "    mse_scores.append(mse)\n",
    "    mae_scores.append(mae)\n",
    "    r2_scores.append(r2)\n",
    "results_df = pd.DataFrame({\n",
    "    'Degree': degrees,\n",
    "    'MSE': mse_scores,\n",
    "    'MAE': mae_scores,\n",
    "    'R2': r2_scores,\n",
    "    'BIC': bic_scores\n",
    "})\n",
    "\n",
    "plt.figure(figsize=(10, 6))\n",
    "plt.plot(degrees, bic_scores, marker='o', label='BIC Score')\n",
    "plt.xlabel('Polynomial Degree')\n",
    "plt.ylabel('BIC Score')\n",
    "plt.title('Polynomial Degree vs. BIC Score')\n",
    "plt.legend()\n",
    "plt.grid(True)\n",
    "plt.show()"
   ],
   "outputs": [],
   "execution_count": null
  },
  {
   "metadata": {},
   "cell_type": "code",
   "source": [
    "#Polynomial Regression Model with degree = 2\n",
    "poly_features = PolynomialFeatures(degree=2)\n",
    "x_train_poly = poly_features.fit_transform(X_train_scaled)\n",
    "poly_model = LinearRegression()\n",
    "poly_model.fit(x_train_poly, y_train)"
   ],
   "outputs": [],
   "execution_count": null
  },
  {
   "metadata": {},
   "cell_type": "code",
   "source": [
    "svr = SVR(kernel='rbf')\n",
    "svr.fit(X_train_scaled, y_train)"
   ],
   "outputs": [],
   "execution_count": null
  },
  {
   "metadata": {},
   "cell_type": "code",
   "source": [
    "#Function for Evaluating different models and saving the results in a dictionary\n",
    "def evaluate_models(models, x_vali, y_vali):\n",
    "    results = {}\n",
    "\n",
    "    for model_name, model in models:\n",
    "        if model_name == 'Polynomial Regression':\n",
    "            poly_features = PolynomialFeatures(degree=2)\n",
    "            x_poly = poly_features.fit_transform(x_vali)\n",
    "            y_pred = model.predict(x_poly)\n",
    "        else:\n",
    "            y_pred = model.predict(x_vali)\n",
    "\n",
    "        mae = mean_absolute_error(y_vali, y_pred)\n",
    "        mse = mean_squared_error(y_vali, y_pred)\n",
    "        r2 = r2_score(y_vali, y_pred)\n",
    "\n",
    "        results[model_name] = {'MAE': mae, 'MSE': mse, 'R2': r2}\n",
    "\n",
    "    return results"
   ],
   "outputs": [],
   "execution_count": null
  },
  {
   "metadata": {},
   "cell_type": "code",
   "source": [
    "#Evaluating Models Before Hyperparamater Tuning\n",
    "models = [\n",
    "    ('Lasso', lasso),\n",
    "    ('Ridge', ridge),\n",
    "    ('Linear Regression', lin_model),\n",
    "    ('Polynomial Regression', poly_model),\n",
    "    ('SVR', svr)\n",
    "]\n",
    "\n",
    "results_without_tuning = evaluate_models(models, X_val_scaled, y_val)"
   ],
   "outputs": [],
   "execution_count": null
  },
  {
   "metadata": {},
   "cell_type": "code",
   "source": "display(results_without_tuning)",
   "outputs": [],
   "execution_count": null
  },
  {
   "cell_type": "code",
   "metadata": {},
   "source": [
    "# Hyperparamater Values\n",
    "param_grid = {\n",
    "    'alpha': [0.01, 0.1, 1, 10, 100]\n",
    "}"
   ],
   "outputs": [],
   "execution_count": null
  },
  {
   "cell_type": "code",
   "metadata": {},
   "source": [
    "#Using Grid Search to find the optimal value for alpha on lasso\n",
    "lasso_cv = GridSearchCV(lasso,param_grid,cv = 5,n_jobs = -1)\n",
    "lasso_cv.fit(X_train_scaled, y_train)"
   ],
   "outputs": [],
   "execution_count": null
  },
  {
   "metadata": {},
   "cell_type": "code",
   "source": [
    "#Using Grid Search to find the optimal value for alpha on ridge\n",
    "ridge_cv = GridSearchCV(ridge,param_grid,cv = 5,n_jobs = -1)\n",
    "ridge_cv.fit(X_train_scaled, y_train)"
   ],
   "outputs": [],
   "execution_count": null
  },
  {
   "metadata": {},
   "cell_type": "code",
   "source": [
    "svr_param_grid = {'C': [0.1, 1, 10, 100, 1000],  \n",
    "              'gamma': [1, 0.1, 0.01, 0.001, 0.0001]\n",
    "              }  "
   ],
   "outputs": [],
   "execution_count": null
  },
  {
   "metadata": {},
   "cell_type": "code",
   "source": [
    "#Using Grid Search to find the optimal value for alpha on svr\n",
    "grid_search = GridSearchCV(SVR(kernel='rbf'), svr_param_grid, cv=5)\n",
    "grid_search.fit(X_train_scaled, y_train)\n",
    "svr_best = grid_search.best_estimator_"
   ],
   "outputs": [],
   "execution_count": null
  },
  {
   "metadata": {},
   "cell_type": "code",
   "source": [
    "#Evaluating Models After Hyperparameter Tuning\n",
    "tuned_models = [\n",
    "    ('Lasso', lasso_cv),\n",
    "    ('Ridge', ridge_cv),\n",
    "    ('SVR', svr_best)\n",
    "]\n",
    "\n",
    "tuned_results = evaluate_models(tuned_models, X_val_scaled, y_val)"
   ],
   "outputs": [],
   "execution_count": null
  },
  {
   "metadata": {},
   "cell_type": "code",
   "source": "display(tuned_results)",
   "outputs": [],
   "execution_count": null
  },
  {
   "metadata": {},
   "cell_type": "code",
   "source": [
    "#Applying the Test Set on Lasso\n",
    "display(evaluate_models([('Lasso', lasso_cv)], X_test_scaled, y_test))"
   ],
   "outputs": [],
   "execution_count": null
  },
  {
   "metadata": {},
   "cell_type": "markdown",
   "source": "## Forward Feature Selection"
  },
  {
   "metadata": {},
   "cell_type": "code",
   "source": [
    "#Implementing Forward Feature Selection with Lasso Model\n",
    "def forward_feature_selection(X_train, y_train, X_val, y_val,model,scoring='mse', max_features=None):\n",
    "\n",
    "    selected_features = []\n",
    "    remaining_features = list(range(X_train.shape[1]))\n",
    "    validation_scores = []\n",
    "\n",
    "    if max_features is None:\n",
    "        max_features = X_train.shape[1]\n",
    "\n",
    "    best_score = float('inf') if scoring in ['mse', 'mae'] else float('-inf')\n",
    "\n",
    "    for _ in range(max_features):\n",
    "        best_feature = None\n",
    "        best_feature_score = best_score\n",
    "\n",
    "        for feature in remaining_features:\n",
    "            features_to_test = selected_features + [feature]\n",
    "            X_train_subset = X_train[:, features_to_test]\n",
    "            X_val_subset = X_val[:, features_to_test]\n",
    "\n",
    "            model.fit(X_train_subset, y_train)\n",
    "\n",
    "            y_val_pred = model.predict(X_val_subset)\n",
    "\n",
    "            if scoring == 'mse':\n",
    "                score = mean_squared_error(y_val, y_val_pred)\n",
    "                is_better = score < best_feature_score  \n",
    "            elif scoring == 'mae':\n",
    "                score = mean_absolute_error(y_val, y_val_pred)\n",
    "                is_better = score < best_feature_score\n",
    "            elif scoring == 'r2':\n",
    "                score = model.score(X_val_subset, y_val)\n",
    "                is_better = score > best_feature_score  \n",
    "            else:\n",
    "                raise ValueError(\"Unsupported scoring metric. Use 'mse' or 'r2'.\")\n",
    "\n",
    "            if is_better:\n",
    "                best_feature_score = score\n",
    "                best_feature = feature\n",
    "\n",
    "        if best_feature is not None:\n",
    "            selected_features.append(best_feature)\n",
    "            validation_scores.append(best_feature_score)\n",
    "            remaining_features.remove(best_feature)\n",
    "            best_score = best_feature_score \n",
    "        else:\n",
    "            break  \n",
    "\n",
    "    return selected_features, validation_scores"
   ],
   "outputs": [],
   "execution_count": null
  },
  {
   "metadata": {},
   "cell_type": "code",
   "source": [
    "selected_features, validation_scores = forward_feature_selection(\n",
    "    X_train_scaled, y_train, X_val_scaled, y_val, scoring='r2', max_features=3, model=lasso_cv\n",
    ")\n",
    "\n",
    "# Output the results\n",
    "print(\"Selected Features:\", selected_features)\n",
    "print(\"Validation Scores:\", validation_scores)"
   ],
   "outputs": [],
   "execution_count": null
  },
  {
   "metadata": {},
   "cell_type": "markdown",
   "source": "## This Section is for trying a NEW target variable : top_speed"
  },
  {
   "metadata": {},
   "cell_type": "code",
   "source": [
    "X_new = df.copy()\n",
    "y_new = X_new.pop('top_speed')\n",
    "\n",
    "X_encode_new = X_new.sample(frac=0.2, random_state=42)\n",
    "y_encode_new = y_new[X_encode_new.index]\n",
    "\n",
    "X_new = X_new.drop(X_encode_new.index)\n",
    "y_new = y_new[X_new.index]\n",
    "\n",
    "brand_counts = X_encode_new['brand'].value_counts()  \n",
    "X_new['brand'] = X_new['brand'].map(brand_counts) \n",
    "\n",
    "\n",
    "X_new.reset_index(drop=True, inplace=True)\n",
    "y_new.reset_index(drop=True, inplace=True)\n",
    "\n",
    "X_new.dropna(inplace=True)\n",
    "y_new = y_new[X_new.index]"
   ],
   "outputs": [],
   "execution_count": null
  },
  {
   "metadata": {},
   "cell_type": "code",
   "source": [
    "# Split the dataset into training (60%) and temporary (40%) sets with a fixed random_state\n",
    "X_train_new, X_temp_new, y_train_new, y_temp_new = train_test_split(X_new, y_new, test_size=0.4, random_state=42)\n",
    "\n",
    "# Split the temporary set into validation (50% of temporary, i.e., 20% of total) and test (50% of temporary, i.e., 20% of total) sets with the same random_state\n",
    "X_val_new, X_test_new, y_val_new, y_test_new = train_test_split(X_temp_new, y_temp_new, test_size=0.5, random_state=42)\n"
   ],
   "outputs": [],
   "execution_count": null
  },
  {
   "metadata": {},
   "cell_type": "code",
   "source": [
    "#Scaling the input features\n",
    "scaler_new = MinMaxScaler()\n",
    "X_train_scaled_new = scaler_new.fit_transform(X_train_new)\n",
    "X_val_scaled_new = scaler_new.transform(X_val_new)\n",
    "X_test_scaled_new = scaler_new.transform(X_test_new)"
   ],
   "outputs": [],
   "execution_count": null
  },
  {
   "metadata": {},
   "cell_type": "code",
   "source": [
    "lin_model_new = LinearRegression()\n",
    "lin_model_new.fit(X_train_scaled_new, y_train_new)\n",
    "lasso_new = Lasso()\n",
    "lasso_new.fit(X_train_scaled_new, y_train_new)\n",
    "ridge_new = Ridge()\n",
    "ridge_new.fit(X_train_scaled_new, y_train_new)\n",
    "poly_features_new = PolynomialFeatures(degree=2)\n",
    "x_train_poly_new = poly_features_new.fit_transform(X_train_scaled_new)\n",
    "poly_model_new = LinearRegression()\n",
    "poly_model_new.fit(x_train_poly_new, y_train_new)\n",
    "svr_new = SVR(kernel='rbf')\n",
    "svr_new.fit(X_train_scaled_new, y_train_new)"
   ],
   "outputs": [],
   "execution_count": null
  },
  {
   "metadata": {},
   "cell_type": "code",
   "source": [
    "models_new = [\n",
    "    ('Lasso', lasso_new),\n",
    "    ('Ridge', ridge_new),\n",
    "    ('Linear Regression', lin_model_new),\n",
    "    ('Polynomial Regression', poly_model_new),\n",
    "    ('SVR', svr_new)\n",
    "]\n",
    "\n",
    "results_new = evaluate_models(models_new, X_val_scaled_new, y_val_new)"
   ],
   "outputs": [],
   "execution_count": null
  },
  {
   "metadata": {},
   "cell_type": "code",
   "source": "display(results_new)",
   "outputs": [],
   "execution_count": null
  }
 ],
 "metadata": {
  "kernelspec": {
   "display_name": ".venv",
   "language": "python",
   "name": "python3"
  },
  "language_info": {
   "codemirror_mode": {
    "name": "ipython",
    "version": 3
   },
   "file_extension": ".py",
   "mimetype": "text/x-python",
   "name": "python",
   "nbconvert_exporter": "python",
   "pygments_lexer": "ipython3",
   "version": "3.12.1"
  }
 },
 "nbformat": 4,
 "nbformat_minor": 2
}
