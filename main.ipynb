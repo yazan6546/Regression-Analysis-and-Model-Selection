{
 "cells": [
  {
   "cell_type": "code",
   "execution_count": null,
   "metadata": {},
   "outputs": [],
   "source": [
    "%pip install kagglehub"
   ]
  },
  {
   "cell_type": "code",
   "execution_count": 9,
   "metadata": {},
   "outputs": [],
   "source": [
    "import kagglehub\n",
    "\n",
    "# Download latest version\n",
    "path = kagglehub.dataset_download(\"ahmedwaelnasef/cars-dataset\")\n",
    "!cp {path}/cars.csv data/cars.csv\n"
   ]
  },
  {
   "cell_type": "code",
   "execution_count": 2,
   "metadata": {},
   "outputs": [],
   "source": [
    "import pandas as pd\n",
    "import numpy as np\n",
    "import re\n"
   ]
  },
  {
   "cell_type": "code",
   "execution_count": null,
   "metadata": {},
   "outputs": [
    {
     "data": {
      "text/html": [
       "<div>\n",
       "<style scoped>\n",
       "    .dataframe tbody tr th:only-of-type {\n",
       "        vertical-align: middle;\n",
       "    }\n",
       "\n",
       "    .dataframe tbody tr th {\n",
       "        vertical-align: top;\n",
       "    }\n",
       "\n",
       "    .dataframe thead th {\n",
       "        text-align: right;\n",
       "    }\n",
       "</style>\n",
       "<table border=\"1\" class=\"dataframe\">\n",
       "  <thead>\n",
       "    <tr style=\"text-align: right;\">\n",
       "      <th></th>\n",
       "      <th>car name</th>\n",
       "      <th>price</th>\n",
       "      <th>engine_capacity</th>\n",
       "      <th>cylinder</th>\n",
       "      <th>horse_power</th>\n",
       "      <th>top_speed</th>\n",
       "      <th>seats</th>\n",
       "      <th>brand</th>\n",
       "      <th>country</th>\n",
       "    </tr>\n",
       "  </thead>\n",
       "  <tbody>\n",
       "  </tbody>\n",
       "</table>\n",
       "</div>"
      ],
      "text/plain": [
       "Empty DataFrame\n",
       "Columns: [car name, price, engine_capacity, cylinder, horse_power, top_speed, seats, brand, country]\n",
       "Index: []"
      ]
     },
     "execution_count": 7,
     "metadata": {},
     "output_type": "execute_result"
    }
   ],
   "source": [
    "df = pd.read_csv('data/cars.csv')\n",
    "df.head()\n",
    "df['seats'].value_counts()  \n",
    "\n",
    "# Filter rows where 'car name' is 'Maserati Levante 2021 3.0T V6 S'\n",
    "filtered = df[df['car name'] == 'Maserati Levante 2021 3.0T V6 S']\n",
    "\n",
    "# Further filter rows where 'price' contains a number\n",
    "filtered = filtered[filtered['price'].str.contains(r'\\d+', na=False)]"
   ]
  },
  {
   "cell_type": "code",
   "execution_count": null,
   "metadata": {},
   "outputs": [],
   "source": []
  },
  {
   "cell_type": "code",
   "execution_count": null,
   "metadata": {},
   "outputs": [
    {
     "name": "stdout",
     "output_type": "stream",
     "text": [
      "<class 'pandas.core.frame.DataFrame'>\n",
      "RangeIndex: 6308 entries, 0 to 6307\n",
      "Data columns (total 9 columns):\n",
      " #   Column           Non-Null Count  Dtype \n",
      "---  ------           --------------  ----- \n",
      " 0   car name         6308 non-null   object\n",
      " 1   price            6308 non-null   object\n",
      " 2   engine_capacity  6308 non-null   object\n",
      " 3   cylinder         5684 non-null   object\n",
      " 4   horse_power      6308 non-null   object\n",
      " 5   top_speed        6308 non-null   object\n",
      " 6   seats            6308 non-null   object\n",
      " 7   brand            6308 non-null   object\n",
      " 8   country          6308 non-null   object\n",
      "dtypes: object(9)\n",
      "memory usage: 443.7+ KB\n"
     ]
    }
   ],
   "source": [
    "df.info()\n"
   ]
  },
  {
   "cell_type": "code",
   "execution_count": 14,
   "metadata": {},
   "outputs": [
    {
     "data": {
      "text/plain": [
       "car name             0\n",
       "price                0\n",
       "engine_capacity      0\n",
       "cylinder           624\n",
       "horse_power          0\n",
       "top_speed            0\n",
       "seats                0\n",
       "brand                0\n",
       "country              0\n",
       "dtype: int64"
      ]
     },
     "execution_count": 14,
     "metadata": {},
     "output_type": "execute_result"
    }
   ],
   "source": [
    "df.isna().sum()"
   ]
  },
  {
   "cell_type": "code",
   "execution_count": 16,
   "metadata": {},
   "outputs": [
    {
     "data": {
      "text/plain": [
       "cylinder\n",
       "4                2856\n",
       "6                1480\n",
       "8                 924\n",
       "3                 139\n",
       "12                136\n",
       "N/A, Electric     107\n",
       "10                 21\n",
       "5                  17\n",
       "Drive Type          3\n",
       "16                  1\n",
       "Name: count, dtype: int64"
      ]
     },
     "execution_count": 16,
     "metadata": {},
     "output_type": "execute_result"
    }
   ],
   "source": [
    "df['cylinder'].value_counts()"
   ]
  },
  {
   "cell_type": "code",
   "execution_count": 17,
   "metadata": {},
   "outputs": [
    {
     "data": {
      "text/plain": [
       "country\n",
       "uae        1248\n",
       "ksa         996\n",
       "kuwait      932\n",
       "qatar       925\n",
       "oman        910\n",
       "bahrain     906\n",
       "egypt       391\n",
       "Name: count, dtype: int64"
      ]
     },
     "execution_count": 17,
     "metadata": {},
     "output_type": "execute_result"
    }
   ],
   "source": [
    "df['country'].value_counts()"
   ]
  },
  {
   "cell_type": "code",
   "execution_count": 18,
   "metadata": {},
   "outputs": [
    {
     "data": {
      "text/plain": [
       "brand\n",
       "mercedes-benz    560\n",
       "audi             398\n",
       "bmw              394\n",
       "toyota           378\n",
       "ford             323\n",
       "                ... \n",
       "tata               2\n",
       "soueast            2\n",
       "byd                2\n",
       "dfm                1\n",
       "bugatti            1\n",
       "Name: count, Length: 82, dtype: int64"
      ]
     },
     "execution_count": 18,
     "metadata": {},
     "output_type": "execute_result"
    }
   ],
   "source": [
    "df['brand'].value_counts()"
   ]
  },
  {
   "cell_type": "code",
   "execution_count": 26,
   "metadata": {},
   "outputs": [
    {
     "data": {
      "text/plain": [
       "car name             0\n",
       "price                0\n",
       "engine_capacity      0\n",
       "cylinder           731\n",
       "horse_power          0\n",
       "top_speed            0\n",
       "seats                0\n",
       "brand                0\n",
       "country              0\n",
       "dtype: int64"
      ]
     },
     "execution_count": 26,
     "metadata": {},
     "output_type": "execute_result"
    }
   ],
   "source": [
    "df['cylinder'] = df['cylinder'].replace('N/A, Electric', pd.NA)\n",
    "df.isna().sum()"
   ]
  },
  {
   "cell_type": "code",
   "execution_count": 27,
   "metadata": {},
   "outputs": [],
   "source": [
    "df.dropna(inplace=True)\n"
   ]
  },
  {
   "cell_type": "code",
   "execution_count": 29,
   "metadata": {},
   "outputs": [
    {
     "data": {
      "text/plain": [
       "price\n",
       "TBD                     365\n",
       "Following               217\n",
       "DISCONTINUED            134\n",
       "Grigio Maratea           23\n",
       "Satin Steel Metallic     17\n",
       "                       ... \n",
       "BHD 22,800                1\n",
       "BHD 23,300                1\n",
       "BHD 23,400                1\n",
       "BHD 27,356                1\n",
       "AED 1,766,100             1\n",
       "Name: count, Length: 3109, dtype: int64"
      ]
     },
     "execution_count": 29,
     "metadata": {},
     "output_type": "execute_result"
    }
   ],
   "source": [
    "df['price'].value_counts()"
   ]
  },
  {
   "cell_type": "code",
   "execution_count": 6,
   "metadata": {},
   "outputs": [
    {
     "data": {
      "text/plain": [
       "seats\n",
       "5 Seater    3471\n",
       "4 Seater     847\n",
       "7 Seater     532\n",
       "2 Seater     428\n",
       "8 Seater     211\n",
       "            ... \n",
       "24.1           1\n",
       "12.3           1\n",
       "230            1\n",
       "220            1\n",
       "2.8            1\n",
       "Name: count, Length: 82, dtype: int64"
      ]
     },
     "execution_count": 6,
     "metadata": {},
     "output_type": "execute_result"
    }
   ],
   "source": [
    "df['top_speed'].value_counts()\n",
    "df['seats'].value_counts()"
   ]
  },
  {
   "cell_type": "code",
   "execution_count": 21,
   "metadata": {},
   "outputs": [
    {
     "name": "stderr",
     "output_type": "stream",
     "text": [
      "<>:1: SyntaxWarning: invalid escape sequence '\\d'\n",
      "<>:1: SyntaxWarning: invalid escape sequence '\\d'\n",
      "/tmp/ipykernel_3423/4180471034.py:1: SyntaxWarning: invalid escape sequence '\\d'\n",
      "  df['seats'] = df['seats'].str.extract('(\\d+)')\n"
     ]
    },
    {
     "data": {
      "text/plain": [
       "seats\n",
       "5      3488\n",
       "4       875\n",
       "7       586\n",
       "2       438\n",
       "8       214\n",
       "6       162\n",
       "3       124\n",
       "9       110\n",
       "11       27\n",
       "15       25\n",
       "10       22\n",
       "200      20\n",
       "260      16\n",
       "12       15\n",
       "150      12\n",
       "17       11\n",
       "14        7\n",
       "185       6\n",
       "190       6\n",
       "160       5\n",
       "80        4\n",
       "18        4\n",
       "30        3\n",
       "240       2\n",
       "250       2\n",
       "156       2\n",
       "120       1\n",
       "145       1\n",
       "13        1\n",
       "230       1\n",
       "220       1\n",
       "24        1\n",
       "Name: count, dtype: int64"
      ]
     },
     "execution_count": 21,
     "metadata": {},
     "output_type": "execute_result"
    }
   ],
   "source": [
    " \n",
    "\n",
    "df['seats'] = df['seats'].str.extract('(\\d+)')\n",
    "\n",
    "df['seats'].value_counts()"
   ]
  },
  {
   "cell_type": "code",
   "execution_count": null,
   "metadata": {},
   "outputs": [
    {
     "data": {
      "text/plain": [
       "'8'"
      ]
     },
     "execution_count": 43,
     "metadata": {},
     "output_type": "execute_result"
    }
   ],
   "source": []
  },
  {
   "cell_type": "code",
   "execution_count": null,
   "metadata": {},
   "outputs": [],
   "source": []
  }
 ],
 "metadata": {
  "kernelspec": {
   "display_name": "Python 3",
   "language": "python",
   "name": "python3"
  },
  "language_info": {
   "codemirror_mode": {
    "name": "ipython",
    "version": 3
   },
   "file_extension": ".py",
   "mimetype": "text/x-python",
   "name": "python",
   "nbconvert_exporter": "python",
   "pygments_lexer": "ipython3",
   "version": "3.11.2"
  }
 },
 "nbformat": 4,
 "nbformat_minor": 2
}
