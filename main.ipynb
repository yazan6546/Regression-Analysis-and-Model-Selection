{
 "cells": [
  {
   "cell_type": "code",
   "execution_count": null,
   "metadata": {},
   "outputs": [],
   "source": [
    "%pip install kagglehub"
   ]
  },
  {
   "cell_type": "code",
   "execution_count": 9,
   "metadata": {},
   "outputs": [],
   "source": [
    "import kagglehub\n",
    "\n",
    "# Download latest version\n",
    "path = kagglehub.dataset_download(\"ahmedwaelnasef/cars-dataset\")\n",
    "!cp {path}/cars.csv data/cars.csv\n"
   ]
  },
  {
   "cell_type": "code",
   "execution_count": 37,
   "metadata": {},
   "outputs": [
    {
     "data": {
      "text/html": [
       "<div>\n",
       "<style scoped>\n",
       "    .dataframe tbody tr th:only-of-type {\n",
       "        vertical-align: middle;\n",
       "    }\n",
       "\n",
       "    .dataframe tbody tr th {\n",
       "        vertical-align: top;\n",
       "    }\n",
       "\n",
       "    .dataframe thead th {\n",
       "        text-align: right;\n",
       "    }\n",
       "</style>\n",
       "<table border=\"1\" class=\"dataframe\">\n",
       "  <thead>\n",
       "    <tr style=\"text-align: right;\">\n",
       "      <th></th>\n",
       "      <th>car name</th>\n",
       "      <th>price</th>\n",
       "      <th>engine_capacity</th>\n",
       "      <th>cylinder</th>\n",
       "      <th>horse_power</th>\n",
       "      <th>top_speed</th>\n",
       "      <th>seats</th>\n",
       "      <th>brand</th>\n",
       "      <th>country</th>\n",
       "    </tr>\n",
       "  </thead>\n",
       "  <tbody>\n",
       "    <tr>\n",
       "      <th>845</th>\n",
       "      <td>Maserati Levante 2021 3.0T V6 S</td>\n",
       "      <td>Grigio Maratea</td>\n",
       "      <td>3.0</td>\n",
       "      <td>6</td>\n",
       "      <td>430</td>\n",
       "      <td>264</td>\n",
       "      <td>5 Seater</td>\n",
       "      <td>maserati</td>\n",
       "      <td>ksa</td>\n",
       "    </tr>\n",
       "    <tr>\n",
       "      <th>2107</th>\n",
       "      <td>Maserati Levante 2021 3.0T V6 S</td>\n",
       "      <td>Grigio Maratea</td>\n",
       "      <td>3.0</td>\n",
       "      <td>6</td>\n",
       "      <td>430</td>\n",
       "      <td>264</td>\n",
       "      <td>5 Seater</td>\n",
       "      <td>maserati</td>\n",
       "      <td>bahrain</td>\n",
       "    </tr>\n",
       "    <tr>\n",
       "      <th>2117</th>\n",
       "      <td>Maserati Levante 2021 3.8T V8 GTS</td>\n",
       "      <td>Grigio Maratea</td>\n",
       "      <td>3.8</td>\n",
       "      <td>8</td>\n",
       "      <td>550</td>\n",
       "      <td>292</td>\n",
       "      <td>5 Seater</td>\n",
       "      <td>maserati</td>\n",
       "      <td>bahrain</td>\n",
       "    </tr>\n",
       "    <tr>\n",
       "      <th>3043</th>\n",
       "      <td>Maserati Levante 2021 3.0T V6 GranSport</td>\n",
       "      <td>Grigio Maratea</td>\n",
       "      <td>3.0</td>\n",
       "      <td>6</td>\n",
       "      <td>350</td>\n",
       "      <td>251</td>\n",
       "      <td>5 Seater</td>\n",
       "      <td>maserati</td>\n",
       "      <td>qatar</td>\n",
       "    </tr>\n",
       "    <tr>\n",
       "      <th>3065</th>\n",
       "      <td>Maserati Levante 2021 3.0T V6 S GranLusso</td>\n",
       "      <td>Grigio Maratea</td>\n",
       "      <td>3.0</td>\n",
       "      <td>6</td>\n",
       "      <td>430</td>\n",
       "      <td>264</td>\n",
       "      <td>5 Seater</td>\n",
       "      <td>maserati</td>\n",
       "      <td>qatar</td>\n",
       "    </tr>\n",
       "    <tr>\n",
       "      <th>3067</th>\n",
       "      <td>Maserati Levante 2021 3.0T V6 S</td>\n",
       "      <td>Grigio Maratea</td>\n",
       "      <td>3.0</td>\n",
       "      <td>6</td>\n",
       "      <td>430</td>\n",
       "      <td>264</td>\n",
       "      <td>5 Seater</td>\n",
       "      <td>maserati</td>\n",
       "      <td>qatar</td>\n",
       "    </tr>\n",
       "    <tr>\n",
       "      <th>3073</th>\n",
       "      <td>Maserati Levante 2021 3.8T V8 GTS</td>\n",
       "      <td>Grigio Maratea</td>\n",
       "      <td>3.8</td>\n",
       "      <td>8</td>\n",
       "      <td>550</td>\n",
       "      <td>292</td>\n",
       "      <td>5 Seater</td>\n",
       "      <td>maserati</td>\n",
       "      <td>qatar</td>\n",
       "    </tr>\n",
       "    <tr>\n",
       "      <th>3083</th>\n",
       "      <td>Maserati Levante 2021 3.0T V6 S GranSport</td>\n",
       "      <td>Grigio Maratea</td>\n",
       "      <td>3.0</td>\n",
       "      <td>6</td>\n",
       "      <td>430</td>\n",
       "      <td>264</td>\n",
       "      <td>5 Seater</td>\n",
       "      <td>maserati</td>\n",
       "      <td>qatar</td>\n",
       "    </tr>\n",
       "    <tr>\n",
       "      <th>3946</th>\n",
       "      <td>Maserati Levante 2021 3.0T V6 GranSport</td>\n",
       "      <td>Grigio Maratea</td>\n",
       "      <td>3.0</td>\n",
       "      <td>6</td>\n",
       "      <td>350</td>\n",
       "      <td>251</td>\n",
       "      <td>5 Seater</td>\n",
       "      <td>maserati</td>\n",
       "      <td>oman</td>\n",
       "    </tr>\n",
       "    <tr>\n",
       "      <th>3968</th>\n",
       "      <td>Maserati Levante 2021 3.8T V8 GTS</td>\n",
       "      <td>Grigio Maratea</td>\n",
       "      <td>3.8</td>\n",
       "      <td>8</td>\n",
       "      <td>550</td>\n",
       "      <td>292</td>\n",
       "      <td>5 Seater</td>\n",
       "      <td>maserati</td>\n",
       "      <td>oman</td>\n",
       "    </tr>\n",
       "    <tr>\n",
       "      <th>3969</th>\n",
       "      <td>Maserati Levante 2021 3.0T V6 S</td>\n",
       "      <td>Grigio Maratea</td>\n",
       "      <td>3.0</td>\n",
       "      <td>6</td>\n",
       "      <td>430</td>\n",
       "      <td>264</td>\n",
       "      <td>5 Seater</td>\n",
       "      <td>maserati</td>\n",
       "      <td>oman</td>\n",
       "    </tr>\n",
       "    <tr>\n",
       "      <th>3973</th>\n",
       "      <td>Maserati Levante 2021 3.0T V6 S GranSport</td>\n",
       "      <td>Grigio Maratea</td>\n",
       "      <td>3.0</td>\n",
       "      <td>6</td>\n",
       "      <td>430</td>\n",
       "      <td>264</td>\n",
       "      <td>5 Seater</td>\n",
       "      <td>maserati</td>\n",
       "      <td>oman</td>\n",
       "    </tr>\n",
       "    <tr>\n",
       "      <th>3978</th>\n",
       "      <td>Maserati Levante 2021 3.0T V6 S GranLusso</td>\n",
       "      <td>Grigio Maratea</td>\n",
       "      <td>3.0</td>\n",
       "      <td>6</td>\n",
       "      <td>430</td>\n",
       "      <td>264</td>\n",
       "      <td>5 Seater</td>\n",
       "      <td>maserati</td>\n",
       "      <td>oman</td>\n",
       "    </tr>\n",
       "    <tr>\n",
       "      <th>4889</th>\n",
       "      <td>Maserati Levante 2021 3.0T V6 GranSport</td>\n",
       "      <td>Grigio Maratea</td>\n",
       "      <td>3.0</td>\n",
       "      <td>6</td>\n",
       "      <td>350</td>\n",
       "      <td>251</td>\n",
       "      <td>5 Seater</td>\n",
       "      <td>maserati</td>\n",
       "      <td>kuwait</td>\n",
       "    </tr>\n",
       "    <tr>\n",
       "      <th>4913</th>\n",
       "      <td>Maserati Levante 2021 3.0T V6 S</td>\n",
       "      <td>Grigio Maratea</td>\n",
       "      <td>3.0</td>\n",
       "      <td>6</td>\n",
       "      <td>430</td>\n",
       "      <td>264</td>\n",
       "      <td>5 Seater</td>\n",
       "      <td>maserati</td>\n",
       "      <td>kuwait</td>\n",
       "    </tr>\n",
       "    <tr>\n",
       "      <th>4915</th>\n",
       "      <td>Maserati Levante 2021 3.8T V8 GTS</td>\n",
       "      <td>Grigio Maratea</td>\n",
       "      <td>3.8</td>\n",
       "      <td>8</td>\n",
       "      <td>550</td>\n",
       "      <td>292</td>\n",
       "      <td>5 Seater</td>\n",
       "      <td>maserati</td>\n",
       "      <td>kuwait</td>\n",
       "    </tr>\n",
       "    <tr>\n",
       "      <th>4916</th>\n",
       "      <td>Maserati Levante 2021 3.0T V6 S GranSport</td>\n",
       "      <td>Grigio Maratea</td>\n",
       "      <td>3.0</td>\n",
       "      <td>6</td>\n",
       "      <td>430</td>\n",
       "      <td>264</td>\n",
       "      <td>5 Seater</td>\n",
       "      <td>maserati</td>\n",
       "      <td>kuwait</td>\n",
       "    </tr>\n",
       "    <tr>\n",
       "      <th>4918</th>\n",
       "      <td>Maserati Levante 2021 3.0T V6 S GranLusso</td>\n",
       "      <td>Grigio Maratea</td>\n",
       "      <td>3.0</td>\n",
       "      <td>6</td>\n",
       "      <td>430</td>\n",
       "      <td>264</td>\n",
       "      <td>5 Seater</td>\n",
       "      <td>maserati</td>\n",
       "      <td>kuwait</td>\n",
       "    </tr>\n",
       "    <tr>\n",
       "      <th>6117</th>\n",
       "      <td>Maserati Levante 2021 3.0T V6 S</td>\n",
       "      <td>Grigio Maratea</td>\n",
       "      <td>3.0</td>\n",
       "      <td>6</td>\n",
       "      <td>430</td>\n",
       "      <td>264</td>\n",
       "      <td>5 Seater</td>\n",
       "      <td>maserati</td>\n",
       "      <td>uae</td>\n",
       "    </tr>\n",
       "    <tr>\n",
       "      <th>6133</th>\n",
       "      <td>Maserati Levante 2021 3.0T V6 GranSport</td>\n",
       "      <td>Grigio Maratea</td>\n",
       "      <td>3.0</td>\n",
       "      <td>6</td>\n",
       "      <td>350</td>\n",
       "      <td>251</td>\n",
       "      <td>5 Seater</td>\n",
       "      <td>maserati</td>\n",
       "      <td>uae</td>\n",
       "    </tr>\n",
       "    <tr>\n",
       "      <th>6151</th>\n",
       "      <td>Maserati Levante 2021 3.0T V6 S GranLusso</td>\n",
       "      <td>Grigio Maratea</td>\n",
       "      <td>3.0</td>\n",
       "      <td>6</td>\n",
       "      <td>430</td>\n",
       "      <td>264</td>\n",
       "      <td>5 Seater</td>\n",
       "      <td>maserati</td>\n",
       "      <td>uae</td>\n",
       "    </tr>\n",
       "    <tr>\n",
       "      <th>6155</th>\n",
       "      <td>Maserati Levante 2021 3.0T V6 S GranSport</td>\n",
       "      <td>Grigio Maratea</td>\n",
       "      <td>3.0</td>\n",
       "      <td>6</td>\n",
       "      <td>430</td>\n",
       "      <td>264</td>\n",
       "      <td>5 Seater</td>\n",
       "      <td>maserati</td>\n",
       "      <td>uae</td>\n",
       "    </tr>\n",
       "    <tr>\n",
       "      <th>6189</th>\n",
       "      <td>Maserati Levante 2021 3.8T V8 GTS</td>\n",
       "      <td>Grigio Maratea</td>\n",
       "      <td>3.8</td>\n",
       "      <td>8</td>\n",
       "      <td>550</td>\n",
       "      <td>292</td>\n",
       "      <td>5 Seater</td>\n",
       "      <td>maserati</td>\n",
       "      <td>uae</td>\n",
       "    </tr>\n",
       "  </tbody>\n",
       "</table>\n",
       "</div>"
      ],
      "text/plain": [
       "                                       car name           price  \\\n",
       "845             Maserati Levante 2021 3.0T V6 S  Grigio Maratea   \n",
       "2107            Maserati Levante 2021 3.0T V6 S  Grigio Maratea   \n",
       "2117          Maserati Levante 2021 3.8T V8 GTS  Grigio Maratea   \n",
       "3043    Maserati Levante 2021 3.0T V6 GranSport  Grigio Maratea   \n",
       "3065  Maserati Levante 2021 3.0T V6 S GranLusso  Grigio Maratea   \n",
       "3067            Maserati Levante 2021 3.0T V6 S  Grigio Maratea   \n",
       "3073          Maserati Levante 2021 3.8T V8 GTS  Grigio Maratea   \n",
       "3083  Maserati Levante 2021 3.0T V6 S GranSport  Grigio Maratea   \n",
       "3946    Maserati Levante 2021 3.0T V6 GranSport  Grigio Maratea   \n",
       "3968          Maserati Levante 2021 3.8T V8 GTS  Grigio Maratea   \n",
       "3969            Maserati Levante 2021 3.0T V6 S  Grigio Maratea   \n",
       "3973  Maserati Levante 2021 3.0T V6 S GranSport  Grigio Maratea   \n",
       "3978  Maserati Levante 2021 3.0T V6 S GranLusso  Grigio Maratea   \n",
       "4889    Maserati Levante 2021 3.0T V6 GranSport  Grigio Maratea   \n",
       "4913            Maserati Levante 2021 3.0T V6 S  Grigio Maratea   \n",
       "4915          Maserati Levante 2021 3.8T V8 GTS  Grigio Maratea   \n",
       "4916  Maserati Levante 2021 3.0T V6 S GranSport  Grigio Maratea   \n",
       "4918  Maserati Levante 2021 3.0T V6 S GranLusso  Grigio Maratea   \n",
       "6117            Maserati Levante 2021 3.0T V6 S  Grigio Maratea   \n",
       "6133    Maserati Levante 2021 3.0T V6 GranSport  Grigio Maratea   \n",
       "6151  Maserati Levante 2021 3.0T V6 S GranLusso  Grigio Maratea   \n",
       "6155  Maserati Levante 2021 3.0T V6 S GranSport  Grigio Maratea   \n",
       "6189          Maserati Levante 2021 3.8T V8 GTS  Grigio Maratea   \n",
       "\n",
       "     engine_capacity cylinder horse_power top_speed     seats     brand  \\\n",
       "845              3.0        6         430       264  5 Seater  maserati   \n",
       "2107             3.0        6         430       264  5 Seater  maserati   \n",
       "2117             3.8        8         550       292  5 Seater  maserati   \n",
       "3043             3.0        6         350       251  5 Seater  maserati   \n",
       "3065             3.0        6         430       264  5 Seater  maserati   \n",
       "3067             3.0        6         430       264  5 Seater  maserati   \n",
       "3073             3.8        8         550       292  5 Seater  maserati   \n",
       "3083             3.0        6         430       264  5 Seater  maserati   \n",
       "3946             3.0        6         350       251  5 Seater  maserati   \n",
       "3968             3.8        8         550       292  5 Seater  maserati   \n",
       "3969             3.0        6         430       264  5 Seater  maserati   \n",
       "3973             3.0        6         430       264  5 Seater  maserati   \n",
       "3978             3.0        6         430       264  5 Seater  maserati   \n",
       "4889             3.0        6         350       251  5 Seater  maserati   \n",
       "4913             3.0        6         430       264  5 Seater  maserati   \n",
       "4915             3.8        8         550       292  5 Seater  maserati   \n",
       "4916             3.0        6         430       264  5 Seater  maserati   \n",
       "4918             3.0        6         430       264  5 Seater  maserati   \n",
       "6117             3.0        6         430       264  5 Seater  maserati   \n",
       "6133             3.0        6         350       251  5 Seater  maserati   \n",
       "6151             3.0        6         430       264  5 Seater  maserati   \n",
       "6155             3.0        6         430       264  5 Seater  maserati   \n",
       "6189             3.8        8         550       292  5 Seater  maserati   \n",
       "\n",
       "      country  \n",
       "845       ksa  \n",
       "2107  bahrain  \n",
       "2117  bahrain  \n",
       "3043    qatar  \n",
       "3065    qatar  \n",
       "3067    qatar  \n",
       "3073    qatar  \n",
       "3083    qatar  \n",
       "3946     oman  \n",
       "3968     oman  \n",
       "3969     oman  \n",
       "3973     oman  \n",
       "3978     oman  \n",
       "4889   kuwait  \n",
       "4913   kuwait  \n",
       "4915   kuwait  \n",
       "4916   kuwait  \n",
       "4918   kuwait  \n",
       "6117      uae  \n",
       "6133      uae  \n",
       "6151      uae  \n",
       "6155      uae  \n",
       "6189      uae  "
      ]
     },
     "execution_count": 37,
     "metadata": {},
     "output_type": "execute_result"
    }
   ],
   "source": [
    "import pandas as pd\n",
    "import numpy as np\n",
    "import re\n",
    "\n",
    "df[df['price'] == 'Grigio Maratea']"
   ]
  },
  {
   "cell_type": "code",
   "execution_count": 39,
   "metadata": {},
   "outputs": [
    {
     "ename": "KeyError",
     "evalue": "False",
     "output_type": "error",
     "traceback": [
      "\u001b[0;31m---------------------------------------------------------------------------\u001b[0m",
      "\u001b[0;31mKeyError\u001b[0m                                  Traceback (most recent call last)",
      "File \u001b[0;32m~/miniconda3/lib/python3.12/site-packages/pandas/core/indexes/base.py:3805\u001b[0m, in \u001b[0;36mIndex.get_loc\u001b[0;34m(self, key)\u001b[0m\n\u001b[1;32m   3804\u001b[0m \u001b[38;5;28;01mtry\u001b[39;00m:\n\u001b[0;32m-> 3805\u001b[0m     \u001b[38;5;28;01mreturn\u001b[39;00m \u001b[38;5;28mself\u001b[39m\u001b[38;5;241m.\u001b[39m_engine\u001b[38;5;241m.\u001b[39mget_loc(casted_key)\n\u001b[1;32m   3806\u001b[0m \u001b[38;5;28;01mexcept\u001b[39;00m \u001b[38;5;167;01mKeyError\u001b[39;00m \u001b[38;5;28;01mas\u001b[39;00m err:\n",
      "File \u001b[0;32mindex.pyx:167\u001b[0m, in \u001b[0;36mpandas._libs.index.IndexEngine.get_loc\u001b[0;34m()\u001b[0m\n",
      "File \u001b[0;32mindex.pyx:196\u001b[0m, in \u001b[0;36mpandas._libs.index.IndexEngine.get_loc\u001b[0;34m()\u001b[0m\n",
      "File \u001b[0;32mpandas/_libs/hashtable_class_helper.pxi:7081\u001b[0m, in \u001b[0;36mpandas._libs.hashtable.PyObjectHashTable.get_item\u001b[0;34m()\u001b[0m\n",
      "File \u001b[0;32mpandas/_libs/hashtable_class_helper.pxi:7089\u001b[0m, in \u001b[0;36mpandas._libs.hashtable.PyObjectHashTable.get_item\u001b[0;34m()\u001b[0m\n",
      "\u001b[0;31mKeyError\u001b[0m: False",
      "\nThe above exception was the direct cause of the following exception:\n",
      "\u001b[0;31mKeyError\u001b[0m                                  Traceback (most recent call last)",
      "Cell \u001b[0;32mIn[39], line 5\u001b[0m\n\u001b[1;32m      2\u001b[0m df\u001b[38;5;241m.\u001b[39mhead()\n\u001b[1;32m      3\u001b[0m df[\u001b[38;5;124m'\u001b[39m\u001b[38;5;124mseats\u001b[39m\u001b[38;5;124m'\u001b[39m]\u001b[38;5;241m.\u001b[39mvalue_counts()  \n\u001b[0;32m----> 5\u001b[0m filtered \u001b[38;5;241m=\u001b[39m df[\u001b[38;5;124m'\u001b[39m\u001b[38;5;124mcar name\u001b[39m\u001b[38;5;124m'\u001b[39m \u001b[38;5;241m==\u001b[39m \u001b[38;5;124m'\u001b[39m\u001b[38;5;124mMaserati Levante 2021 3.0T V6 S\u001b[39m\u001b[38;5;124m'\u001b[39m]\n\u001b[1;32m      7\u001b[0m filtered[\u001b[38;5;124m'\u001b[39m\u001b[38;5;124mprice\u001b[39m\u001b[38;5;124m'\u001b[39m]\u001b[38;5;241m.\u001b[39mstr\u001b[38;5;241m.\u001b[39mcontains(\u001b[38;5;124mr\u001b[39m\u001b[38;5;124m'\u001b[39m\u001b[38;5;124m(\u001b[39m\u001b[38;5;124m\\\u001b[39m\u001b[38;5;124md+)\u001b[39m\u001b[38;5;124m'\u001b[39m)\n",
      "File \u001b[0;32m~/miniconda3/lib/python3.12/site-packages/pandas/core/frame.py:4102\u001b[0m, in \u001b[0;36mDataFrame.__getitem__\u001b[0;34m(self, key)\u001b[0m\n\u001b[1;32m   4100\u001b[0m \u001b[38;5;28;01mif\u001b[39;00m \u001b[38;5;28mself\u001b[39m\u001b[38;5;241m.\u001b[39mcolumns\u001b[38;5;241m.\u001b[39mnlevels \u001b[38;5;241m>\u001b[39m \u001b[38;5;241m1\u001b[39m:\n\u001b[1;32m   4101\u001b[0m     \u001b[38;5;28;01mreturn\u001b[39;00m \u001b[38;5;28mself\u001b[39m\u001b[38;5;241m.\u001b[39m_getitem_multilevel(key)\n\u001b[0;32m-> 4102\u001b[0m indexer \u001b[38;5;241m=\u001b[39m \u001b[38;5;28mself\u001b[39m\u001b[38;5;241m.\u001b[39mcolumns\u001b[38;5;241m.\u001b[39mget_loc(key)\n\u001b[1;32m   4103\u001b[0m \u001b[38;5;28;01mif\u001b[39;00m is_integer(indexer):\n\u001b[1;32m   4104\u001b[0m     indexer \u001b[38;5;241m=\u001b[39m [indexer]\n",
      "File \u001b[0;32m~/miniconda3/lib/python3.12/site-packages/pandas/core/indexes/base.py:3812\u001b[0m, in \u001b[0;36mIndex.get_loc\u001b[0;34m(self, key)\u001b[0m\n\u001b[1;32m   3807\u001b[0m     \u001b[38;5;28;01mif\u001b[39;00m \u001b[38;5;28misinstance\u001b[39m(casted_key, \u001b[38;5;28mslice\u001b[39m) \u001b[38;5;129;01mor\u001b[39;00m (\n\u001b[1;32m   3808\u001b[0m         \u001b[38;5;28misinstance\u001b[39m(casted_key, abc\u001b[38;5;241m.\u001b[39mIterable)\n\u001b[1;32m   3809\u001b[0m         \u001b[38;5;129;01mand\u001b[39;00m \u001b[38;5;28many\u001b[39m(\u001b[38;5;28misinstance\u001b[39m(x, \u001b[38;5;28mslice\u001b[39m) \u001b[38;5;28;01mfor\u001b[39;00m x \u001b[38;5;129;01min\u001b[39;00m casted_key)\n\u001b[1;32m   3810\u001b[0m     ):\n\u001b[1;32m   3811\u001b[0m         \u001b[38;5;28;01mraise\u001b[39;00m InvalidIndexError(key)\n\u001b[0;32m-> 3812\u001b[0m     \u001b[38;5;28;01mraise\u001b[39;00m \u001b[38;5;167;01mKeyError\u001b[39;00m(key) \u001b[38;5;28;01mfrom\u001b[39;00m \u001b[38;5;21;01merr\u001b[39;00m\n\u001b[1;32m   3813\u001b[0m \u001b[38;5;28;01mexcept\u001b[39;00m \u001b[38;5;167;01mTypeError\u001b[39;00m:\n\u001b[1;32m   3814\u001b[0m     \u001b[38;5;66;03m# If we have a listlike key, _check_indexing_error will raise\u001b[39;00m\n\u001b[1;32m   3815\u001b[0m     \u001b[38;5;66;03m#  InvalidIndexError. Otherwise we fall through and re-raise\u001b[39;00m\n\u001b[1;32m   3816\u001b[0m     \u001b[38;5;66;03m#  the TypeError.\u001b[39;00m\n\u001b[1;32m   3817\u001b[0m     \u001b[38;5;28mself\u001b[39m\u001b[38;5;241m.\u001b[39m_check_indexing_error(key)\n",
      "\u001b[0;31mKeyError\u001b[0m: False"
     ]
    }
   ],
   "source": [
    "df = pd.read_csv('data/cars.csv')\n",
    "df.head()\n",
    "df['seats'].value_counts()  \n",
    "\n",
    "filtered = df['car name' == 'Maserati Levante 2021 3.0T V6 S']\n",
    "\n",
    "filtered['price'].str.contains(r'(\\d+)')"
   ]
  },
  {
   "cell_type": "code",
   "execution_count": null,
   "metadata": {},
   "outputs": [
    {
     "name": "stdout",
     "output_type": "stream",
     "text": [
      "<class 'pandas.core.frame.DataFrame'>\n",
      "RangeIndex: 6308 entries, 0 to 6307\n",
      "Data columns (total 9 columns):\n",
      " #   Column           Non-Null Count  Dtype \n",
      "---  ------           --------------  ----- \n",
      " 0   car name         6308 non-null   object\n",
      " 1   price            6308 non-null   object\n",
      " 2   engine_capacity  6308 non-null   object\n",
      " 3   cylinder         5684 non-null   object\n",
      " 4   horse_power      6308 non-null   object\n",
      " 5   top_speed        6308 non-null   object\n",
      " 6   seats            6308 non-null   object\n",
      " 7   brand            6308 non-null   object\n",
      " 8   country          6308 non-null   object\n",
      "dtypes: object(9)\n",
      "memory usage: 443.7+ KB\n"
     ]
    }
   ],
   "source": [
    "df.info()\n"
   ]
  },
  {
   "cell_type": "code",
   "execution_count": 14,
   "metadata": {},
   "outputs": [
    {
     "data": {
      "text/plain": [
       "car name             0\n",
       "price                0\n",
       "engine_capacity      0\n",
       "cylinder           624\n",
       "horse_power          0\n",
       "top_speed            0\n",
       "seats                0\n",
       "brand                0\n",
       "country              0\n",
       "dtype: int64"
      ]
     },
     "execution_count": 14,
     "metadata": {},
     "output_type": "execute_result"
    }
   ],
   "source": [
    "df.isna().sum()"
   ]
  },
  {
   "cell_type": "code",
   "execution_count": 16,
   "metadata": {},
   "outputs": [
    {
     "data": {
      "text/plain": [
       "cylinder\n",
       "4                2856\n",
       "6                1480\n",
       "8                 924\n",
       "3                 139\n",
       "12                136\n",
       "N/A, Electric     107\n",
       "10                 21\n",
       "5                  17\n",
       "Drive Type          3\n",
       "16                  1\n",
       "Name: count, dtype: int64"
      ]
     },
     "execution_count": 16,
     "metadata": {},
     "output_type": "execute_result"
    }
   ],
   "source": [
    "df['cylinder'].value_counts()"
   ]
  },
  {
   "cell_type": "code",
   "execution_count": 17,
   "metadata": {},
   "outputs": [
    {
     "data": {
      "text/plain": [
       "country\n",
       "uae        1248\n",
       "ksa         996\n",
       "kuwait      932\n",
       "qatar       925\n",
       "oman        910\n",
       "bahrain     906\n",
       "egypt       391\n",
       "Name: count, dtype: int64"
      ]
     },
     "execution_count": 17,
     "metadata": {},
     "output_type": "execute_result"
    }
   ],
   "source": [
    "df['country'].value_counts()"
   ]
  },
  {
   "cell_type": "code",
   "execution_count": 18,
   "metadata": {},
   "outputs": [
    {
     "data": {
      "text/plain": [
       "brand\n",
       "mercedes-benz    560\n",
       "audi             398\n",
       "bmw              394\n",
       "toyota           378\n",
       "ford             323\n",
       "                ... \n",
       "tata               2\n",
       "soueast            2\n",
       "byd                2\n",
       "dfm                1\n",
       "bugatti            1\n",
       "Name: count, Length: 82, dtype: int64"
      ]
     },
     "execution_count": 18,
     "metadata": {},
     "output_type": "execute_result"
    }
   ],
   "source": [
    "df['brand'].value_counts()"
   ]
  },
  {
   "cell_type": "code",
   "execution_count": 26,
   "metadata": {},
   "outputs": [
    {
     "data": {
      "text/plain": [
       "car name             0\n",
       "price                0\n",
       "engine_capacity      0\n",
       "cylinder           731\n",
       "horse_power          0\n",
       "top_speed            0\n",
       "seats                0\n",
       "brand                0\n",
       "country              0\n",
       "dtype: int64"
      ]
     },
     "execution_count": 26,
     "metadata": {},
     "output_type": "execute_result"
    }
   ],
   "source": [
    "df['cylinder'] = df['cylinder'].replace('N/A, Electric', pd.NA)\n",
    "df.isna().sum()"
   ]
  },
  {
   "cell_type": "code",
   "execution_count": 27,
   "metadata": {},
   "outputs": [],
   "source": [
    "df.dropna(inplace=True)\n"
   ]
  },
  {
   "cell_type": "code",
   "execution_count": 29,
   "metadata": {},
   "outputs": [
    {
     "data": {
      "text/plain": [
       "price\n",
       "TBD                     365\n",
       "Following               217\n",
       "DISCONTINUED            134\n",
       "Grigio Maratea           23\n",
       "Satin Steel Metallic     17\n",
       "                       ... \n",
       "BHD 22,800                1\n",
       "BHD 23,300                1\n",
       "BHD 23,400                1\n",
       "BHD 27,356                1\n",
       "AED 1,766,100             1\n",
       "Name: count, Length: 3109, dtype: int64"
      ]
     },
     "execution_count": 29,
     "metadata": {},
     "output_type": "execute_result"
    }
   ],
   "source": [
    "df['price'].value_counts()"
   ]
  },
  {
   "cell_type": "code",
   "execution_count": 6,
   "metadata": {},
   "outputs": [
    {
     "data": {
      "text/plain": [
       "seats\n",
       "5 Seater    3471\n",
       "4 Seater     847\n",
       "7 Seater     532\n",
       "2 Seater     428\n",
       "8 Seater     211\n",
       "            ... \n",
       "24.1           1\n",
       "12.3           1\n",
       "230            1\n",
       "220            1\n",
       "2.8            1\n",
       "Name: count, Length: 82, dtype: int64"
      ]
     },
     "execution_count": 6,
     "metadata": {},
     "output_type": "execute_result"
    }
   ],
   "source": [
    "df['top_speed'].value_counts()\n",
    "df['seats'].value_counts()"
   ]
  },
  {
   "cell_type": "code",
   "execution_count": 21,
   "metadata": {},
   "outputs": [
    {
     "name": "stderr",
     "output_type": "stream",
     "text": [
      "<>:1: SyntaxWarning: invalid escape sequence '\\d'\n",
      "<>:1: SyntaxWarning: invalid escape sequence '\\d'\n",
      "/tmp/ipykernel_3423/4180471034.py:1: SyntaxWarning: invalid escape sequence '\\d'\n",
      "  df['seats'] = df['seats'].str.extract('(\\d+)')\n"
     ]
    },
    {
     "data": {
      "text/plain": [
       "seats\n",
       "5      3488\n",
       "4       875\n",
       "7       586\n",
       "2       438\n",
       "8       214\n",
       "6       162\n",
       "3       124\n",
       "9       110\n",
       "11       27\n",
       "15       25\n",
       "10       22\n",
       "200      20\n",
       "260      16\n",
       "12       15\n",
       "150      12\n",
       "17       11\n",
       "14        7\n",
       "185       6\n",
       "190       6\n",
       "160       5\n",
       "80        4\n",
       "18        4\n",
       "30        3\n",
       "240       2\n",
       "250       2\n",
       "156       2\n",
       "120       1\n",
       "145       1\n",
       "13        1\n",
       "230       1\n",
       "220       1\n",
       "24        1\n",
       "Name: count, dtype: int64"
      ]
     },
     "execution_count": 21,
     "metadata": {},
     "output_type": "execute_result"
    }
   ],
   "source": [
    " \n",
    "\n",
    "df['seats'] = df['seats'].str.extract('(\\d+)')\n",
    "\n",
    "df['seats'].value_counts()"
   ]
  },
  {
   "cell_type": "code",
   "execution_count": null,
   "metadata": {},
   "outputs": [
    {
     "data": {
      "text/plain": [
       "'8'"
      ]
     },
     "execution_count": 43,
     "metadata": {},
     "output_type": "execute_result"
    }
   ],
   "source": []
  },
  {
   "cell_type": "code",
   "execution_count": null,
   "metadata": {},
   "outputs": [],
   "source": []
  }
 ],
 "metadata": {
  "kernelspec": {
   "display_name": "base",
   "language": "python",
   "name": "python3"
  },
  "language_info": {
   "codemirror_mode": {
    "name": "ipython",
    "version": 3
   },
   "file_extension": ".py",
   "mimetype": "text/x-python",
   "name": "python",
   "nbconvert_exporter": "python",
   "pygments_lexer": "ipython3",
   "version": "3.12.2"
  }
 },
 "nbformat": 4,
 "nbformat_minor": 2
}
