{
 "cells": [
  {
   "cell_type": "code",
   "metadata": {
    "ExecuteTime": {
     "end_time": "2024-11-27T19:38:13.284707Z",
     "start_time": "2024-11-27T19:38:12.901398Z"
    }
   },
   "source": [
    "import pandas as pd\n",
    "import numpy as np\n",
    "from sklearn.model_selection import train_test_split\n",
    "from category_encoders import MEstimateEncoder\n",
    "from sklearn.preprocessing import MinMaxScaler,PolynomialFeatures\n",
    "import regression as reg\n",
    "import matplotlib.pyplot as plt\n",
    "from sklearn.metrics import mean_squared_error,mean_absolute_error,r2_score\n",
    "from sklearn.linear_model import LinearRegression,Lasso,Ridge\n",
    "from sklearn.model_selection import GridSearchCV\n",
    "from sklearn.feature_selection import SequentialFeatureSelector"
   ],
   "outputs": [],
   "execution_count": 19
  },
  {
   "cell_type": "code",
   "metadata": {},
   "source": [
    "df = pd.read_csv('data/cleaned_cars.csv')\n",
    "df = pd.get_dummies(df, columns = ['country'], drop_first=True, dtype=np.int8)\n",
    "df.head()"
   ],
   "outputs": [],
   "execution_count": null
  },
  {
   "cell_type": "markdown",
   "metadata": {},
   "source": [
    "## Target encoding"
   ]
  },
  {
   "cell_type": "code",
   "metadata": {},
   "source": [
    "X = df.copy()\n",
    "y = X.pop('price')\n",
    "\n",
    "X_encode = X.sample(frac=0.2, random_state=42)\n",
    "y_encode = y[X_encode.index]\n",
    "X = X.drop(X_encode.index)\n",
    "y = y[X.index]\n",
    "\n",
    "# Create the encoder instance. Choose m to control noise.\n",
    "encoder = MEstimateEncoder(cols=[\"brand\"], m=5.0)\n",
    "\n",
    "# Fit the encoder on the encoding split.\n",
    "encoder.fit(X_encode, y_encode)\n",
    "\n",
    "# Encode the Zipcode column to create the final training data\n",
    "X = encoder.transform(X)\n",
    "X.reset_index(drop=True, inplace=True)\n",
    "y.reset_index(drop=True, inplace=True)  "
   ],
   "outputs": [],
   "execution_count": null
  },
  {
   "cell_type": "code",
   "metadata": {},
   "source": [
    "X.head()"
   ],
   "outputs": [],
   "execution_count": null
  },
  {
   "cell_type": "code",
   "metadata": {},
   "source": [
    "y.head()"
   ],
   "outputs": [],
   "execution_count": null
  },
  {
   "cell_type": "code",
   "metadata": {},
   "source": [
    "# Split the dataset into training (60%) and temporary (40%) sets with a fixed random_state\n",
    "X_train, X_temp, y_train, y_temp = train_test_split(X, y, test_size=0.4, random_state=42)\n",
    "\n",
    "# Split the temporary set into validation (50% of temporary, i.e., 20% of total) and test (50% of temporary, i.e., 20% of total) sets with the same random_state\n",
    "X_val, X_test, y_val, y_test = train_test_split(X_temp, y_temp, test_size=0.5, random_state=42)\n"
   ],
   "outputs": [],
   "execution_count": null
  },
  {
   "metadata": {},
   "cell_type": "code",
   "source": [
    "scaler = MinMaxScaler()\n",
    "X_train_scaled = scaler.fit_transform(X_train)\n",
    "X_val_scaled = scaler.transform(X_val)\n",
    "X_test_scaled = scaler.transform(X_test)"
   ],
   "outputs": [],
   "execution_count": null
  },
  {
   "metadata": {},
   "cell_type": "code",
   "source": [
    "# scaler = MinMaxScaler()\n",
    "# columns_to_scale = [col for col in X_train.columns if col != 'brand']\n",
    "# X_train_scaled = X_train[columns_to_scale]\n",
    "# X_train[columns_to_scale] = scaler.fit_transform(X_train[columns_to_scale])\n",
    "# X_train_scaled = pd.concat([X_train_scaled, X_train[['brand']]], axis=1)\n",
    "# X_val[columns_to_scale] = scaler.transform(X_val[columns_to_scale])\n",
    "# X_val_scaled = pd.concat([X_val[columns_to_scale], X_val[['brand']]], axis=1)\n",
    "# X_test[columns_to_scale] = scaler.transform(X_test[columns_to_scale])\n",
    "# X_test_scaled = pd.concat([X_test[columns_to_scale], X_test[['brand']]], axis=1)"
   ],
   "outputs": [],
   "execution_count": null
  },
  {
   "cell_type": "code",
   "metadata": {},
   "source": [],
   "outputs": [],
   "execution_count": null
  },
  {
   "cell_type": "code",
   "metadata": {},
   "source": [
    "# Print the sizes of the resulting datasets\n",
    "print(f\"Training set size: {(X_train_scaled.shape[0])}\")\n",
    "print(f\"Validation set size: {(X_val_scaled.shape[0])}\")\n",
    "print(f\"Test set size: {(X_test_scaled.shape[0])}\")\n",
    "\n",
    "# Optionally, print the datasets\n",
    "print(\"\\nTraining Set:\")\n",
    "X_train_scaled\n",
    "df_ok = pd.DataFrame(X_train_scaled, columns=X_train.columns)\n",
    "df_ok.head()    "
   ],
   "outputs": [],
   "execution_count": null
  },
  {
   "cell_type": "markdown",
   "metadata": {},
   "source": [
    "## No API part"
   ]
  },
  {
   "cell_type": "code",
   "metadata": {},
   "source": [
    "w = reg.linear_regression_fit(X_train_scaled, y_train)\n",
    "y_predict = reg.linear_regression_predict(X_test_scaled, w)\n"
   ],
   "outputs": [],
   "execution_count": null
  },
  {
   "cell_type": "code",
   "metadata": {},
   "source": [
    "# Calculate mean squared error\n",
    "mse = mean_squared_error(y_predict, y_test)\n",
    "print(f\"Mean Squared Error: {mse}\")"
   ],
   "outputs": [],
   "execution_count": null
  },
  {
   "cell_type": "code",
   "metadata": {},
   "source": [
    "num_iterations = 1000\n",
    "w, errors = reg.gradient_descent(X_train_scaled, y_train, 0.01, num_iterations)\n",
    "print(w.shape)\n",
    "y_predict = reg.linear_regression_predict(X_test_scaled, w)\n",
    "mean_squared_error(y_predict, y_test)"
   ],
   "outputs": [],
   "execution_count": null
  },
  {
   "cell_type": "code",
   "metadata": {},
   "source": [
    "plt.figure(figsize=(10, 6))\n",
    "plt.plot(range(num_iterations), errors)\n",
    "plt.xlabel('Iteration')\n",
    "plt.ylabel('Error')\n",
    "plt.title('Gradient Descent Error')\n",
    "plt.legend()\n",
    "plt.show()"
   ],
   "outputs": [],
   "execution_count": null
  },
  {
   "metadata": {},
   "cell_type": "markdown",
   "source": "## Lasso Implementation(API)"
  },
  {
   "metadata": {},
   "cell_type": "code",
   "source": [
    "lasso = Lasso()\n",
    "lasso.fit(X_train_scaled, y_train)\n",
    "y_train_pred = lasso.predict(X_train_scaled)\n",
    "mae = mean_absolute_error(y_train, y_train_pred)\n",
    "mse = mean_squared_error(y_train, y_train_pred)\n",
    "r2 = r2_score(y_train,y_train_pred)\n",
    "print(f\"Mean Absolute Error: {mae}\")\n",
    "print(f\"Mean Squared Error: {mse}\")\n",
    "print(f\"R2 Score: {r2}\")"
   ],
   "outputs": [],
   "execution_count": null
  },
  {
   "metadata": {},
   "cell_type": "code",
   "source": [
    "y_val_pred = lasso.predict(X_val_scaled)\n",
    "mae = mean_absolute_error(y_val, y_val_pred)\n",
    "mse = mean_squared_error(y_val, y_val_pred)\n",
    "r2 = r2_score(y_val,y_val_pred)\n",
    "print(f\"Mean Absolute Error: {mae}\")\n",
    "print(f\"Mean Squared Error: {mse}\")\n",
    "print(f\"R2 Score: {r2}\")\n"
   ],
   "outputs": [],
   "execution_count": null
  },
  {
   "metadata": {},
   "cell_type": "code",
   "source": [
    "# Hyperparamater Values\n",
    "param_grid = {\n",
    "    'alpha': [0.01, 0.1, 1, 10, 100]\n",
    "}"
   ],
   "outputs": [],
   "execution_count": null
  },
  {
   "metadata": {},
   "cell_type": "code",
   "source": [
    "#Using Grid Search to find the optimal value for alpha\n",
    "\n",
    "lasso_cv = GridSearchCV(lasso,param_grid,cv = 5,n_jobs = -1)\n",
    "lasso_cv.fit(X_train_scaled, y_train)"
   ],
   "outputs": [],
   "execution_count": null
  },
  {
   "metadata": {},
   "cell_type": "code",
   "source": [
    "#Testing Lasso on the validation set\n",
    "y_val_pred = lasso_cv.predict(X_val_scaled)\n",
    "mae_lasso_val = mean_absolute_error(y_val, y_val_pred)\n",
    "mse_lasso_val = mean_squared_error(y_val, y_val_pred)\n",
    "r2_lasso_val = r2_score(y_val, y_val_pred) \n",
    "print(f\"Mean Absolute Error: {mae}\")\n",
    "print(f\"Mean Squared Error: {mse}\")\n",
    "print(f\"R2 Score: {r2}\")"
   ],
   "outputs": [],
   "execution_count": null
  },
  {
   "metadata": {},
   "cell_type": "code",
   "source": [
    "y_test_pred = lasso_cv.predict(X_test_scaled)\n",
    "mae = mean_absolute_error(y_test, y_test_pred)\n",
    "mse = mean_squared_error(y_test, y_test_pred)\n",
    "r2 = r2_score(y_test, y_test_pred)\n",
    "print(f\"Mean Absolute Error: {mae}\")\n",
    "print(f\"Mean Squared Error: {mse}\")\n",
    "print(f\"R2 Score: {r2}\")"
   ],
   "outputs": [],
   "execution_count": null
  },
  {
   "metadata": {},
   "cell_type": "markdown",
   "source": "## Ridge Implementation (API)"
  },
  {
   "metadata": {},
   "cell_type": "code",
   "source": [
    "ridge = Ridge()\n",
    "ridge.fit(X_train_scaled, y_train)"
   ],
   "outputs": [],
   "execution_count": null
  },
  {
   "metadata": {},
   "cell_type": "code",
   "source": [
    "#Using Grid Search to find the optimal value for alpha\n",
    "\n",
    "ridge_cv = GridSearchCV(ridge,param_grid,cv = 5,n_jobs = -1)\n",
    "ridge_cv.fit(X_train_scaled, y_train)"
   ],
   "outputs": [],
   "execution_count": null
  },
  {
   "metadata": {},
   "cell_type": "code",
   "source": [
    "#Testing Ridge on the validation set\n",
    "y_val_pred = ridge_cv.predict(X_val_scaled)\n",
    "mae = mean_absolute_error(y_val, y_val_pred)\n",
    "mse = mean_squared_error(y_val, y_val_pred)\n",
    "r2 = r2_score(y_val, y_val_pred) \n",
    "print(f\"Mean Absolute Error: {mae}\")\n",
    "print(f\"Mean Squared Error: {mse}\")\n",
    "print(f\"R2 Score: {r2}\")"
   ],
   "outputs": [],
   "execution_count": null
  },
  {
   "metadata": {},
   "cell_type": "code",
   "source": [
    "y_test_pred = ridge_cv.predict(X_test_scaled)\n",
    "mae = mean_absolute_error(y_test, y_test_pred)\n",
    "mse = mean_squared_error(y_test, y_test_pred)\n",
    "r2 = r2_score(y_test, y_test_pred)\n",
    "print(f\"Mean Absolute Error: {mae}\")\n",
    "print(f\"Mean Squared Error: {mse}\")\n",
    "print(f\"R2 Score: {r2}\")"
   ],
   "outputs": [],
   "execution_count": null
  },
  {
   "metadata": {},
   "cell_type": "markdown",
   "source": "## Linear Regression"
  },
  {
   "metadata": {},
   "cell_type": "code",
   "source": [
    "model = LinearRegression()\n",
    "model.fit(X_train_scaled, y_train)\n",
    "y_val_pred = model.predict(X_val_scaled)\n",
    "mae_lin_val = mean_absolute_error(y_val, y_val_pred)\n",
    "mse_lin_val = mean_squared_error(y_val, y_val_pred)\n",
    "r2_lin_val = r2_score(y_val, y_val_pred)\n",
    "print(f\"Mean Absolute Error: {mae}\")\n",
    "print(f\"Mean Squared Error: {mse}\")\n",
    "print(f\"R2 Score: {r2}\")"
   ],
   "outputs": [],
   "execution_count": null
  },
  {
   "metadata": {},
   "cell_type": "code",
   "source": [
    "y_test_pred = model.predict(X_test_scaled)\n",
    "mae = mean_absolute_error(y_test, y_test_pred)\n",
    "mse = mean_squared_error(y_test, y_test_pred)\n",
    "r2 = r2_score(y_test, y_test_pred)\n",
    "print(f\"Mean Absolute Error: {mae}\")\n",
    "print(f\"Mean Squared Error: {mse}\")\n",
    "print(f\"R2 Score: {r2}\")\n",
    "\n",
    "    "
   ],
   "outputs": [],
   "execution_count": null
  },
  {
   "metadata": {},
   "cell_type": "code",
   "source": [
    "ratio = ((mse_lin_val / mse_lasso_val))\n",
    "print(f\"Ratio of MSE: {ratio}\")"
   ],
   "outputs": [],
   "execution_count": null
  },
  {
   "metadata": {},
   "cell_type": "markdown",
   "source": "## Polynomial Regression"
  },
  {
   "metadata": {},
   "cell_type": "code",
   "source": [
    "max_degree = 5\n",
    "n = len(y_train)\n",
    "k = X_train_scaled.shape[1]"
   ],
   "outputs": [],
   "execution_count": null
  },
  {
   "metadata": {},
   "cell_type": "code",
   "source": [
    "bic_scores = []  # Ensure this list is empty at the start\n",
    "degrees = range(2, max_degree + 1)\n",
    "\n",
    "print(\"Degree | MSE         | MAE         | R2         | BIC\")\n",
    "print(\"-\" * 50)\n",
    "\n",
    "for degree in degrees:\n",
    "    # Generate polynomial features\n",
    "    poly = PolynomialFeatures(degree=degree)\n",
    "    x_train_poly = poly.fit_transform(X_train_scaled)\n",
    "    x_val_poly = poly.fit_transform(X_val_scaled)\n",
    "\n",
    "    # Fit the model\n",
    "    model = LinearRegression()\n",
    "    model.fit(x_train_poly, y_train)\n",
    "\n",
    "    # Predictions\n",
    "    y_val_pred = model.predict(x_val_poly)\n",
    "\n",
    "    # Calculate metrics\n",
    "    mse = mean_squared_error(y_val, y_val_pred)\n",
    "    mae = mean_absolute_error(y_val, y_val_pred)\n",
    "    r2 = r2_score(y_val, y_val_pred)\n",
    "\n",
    "    # Calculate RSS and BIC\n",
    "    rss = np.sum((y_val - y_val_pred) ** 2)\n",
    "    n = len(y_val)  # Number of samples in validation set\n",
    "    k = x_val_poly.shape[1]  # Number of parameters (including intercept)\n",
    "    bic = k * np.log(rss / n) + k * np.log(n)\n",
    "    bic_scores.append(bic)\n",
    "\n",
    "    # Print metrics for the current degree\n",
    "    print(f\"{degree:6} | {mse:10.6f} | {mae:10.6f} | {r2:10.6f} | {bic:10.6f}\")\n",
    "\n",
    "# Ensure lengths of degrees and bic_scores are the same\n",
    "if len(degrees) != len(bic_scores):\n",
    "    print(f\"Mismatch: degrees({len(degrees)}), bic_scores({len(bic_scores)})\")\n",
    "\n",
    "# Plot\n",
    "plt.figure(figsize=(10, 6))\n",
    "plt.plot(degrees, bic_scores, marker='o', label='BIC Score')\n",
    "plt.xlabel('Polynomial Degree')\n",
    "plt.ylabel('BIC Score')\n",
    "plt.title('Polynomial Degree vs. BIC Score')\n",
    "plt.legend()\n",
    "plt.grid(True)\n",
    "plt.show()"
   ],
   "outputs": [],
   "execution_count": null
  },
  {
   "metadata": {},
   "cell_type": "code",
   "source": [
    "poly = PolynomialFeatures(degree=2)    \n",
    "x_train_poly = poly.fit_transform(X_train_scaled)\n",
    "X_test_poly = poly.fit_transform(X_test_scaled)\n",
    "\n",
    "# Fit the model\n",
    "model = LinearRegression()\n",
    "model.fit(x_train_poly, y_train)\n",
    "\n",
    "    # Predictions\n",
    "y_test_pred = model.predict(X_test_poly)\n",
    "\n",
    "    # Calculate metrics\n",
    "mse = mean_squared_error(y_test, y_test_pred)\n",
    "mae = mean_absolute_error(y_test, y_test_pred)\n",
    "r2 = r2_score(y_test, y_test_pred)"
   ],
   "outputs": [],
   "execution_count": null
  },
  {
   "metadata": {},
   "cell_type": "code",
   "source": [
    "print(f\"Mean Absolute Error: {mae}\")\n",
    "print(f\"Mean Squared Error: {mse}\")\n",
    "print(f\"R2 Score: {r2}\")"
   ],
   "outputs": [],
   "execution_count": null
  },
  {
   "metadata": {},
   "cell_type": "markdown",
   "source": "## Forward Feature Selection"
  },
  {
   "metadata": {
    "ExecuteTime": {
     "end_time": "2024-11-27T19:50:44.509391Z",
     "start_time": "2024-11-27T19:50:24.565127Z"
    }
   },
   "cell_type": "code",
   "source": [
    "sfs = SequentialFeatureSelector(lasso_cv,n_features_to_select=\"auto\",direction='forward')\n",
    "sfs.fit(X_train_scaled,y_train)\n",
    "X_train_selected = sfs.transform(X_train_scaled)\n",
    "X_val_selected = sfs.transform(X_val_scaled)\n",
    "lasso_cv.fit(X_train_selected,y_train)\n",
    "y_val_pred = lasso_cv.predict(X_val_selected)\n",
    "\n",
    "mae = mean_absolute_error(y_val, y_val_pred)\n",
    "mse = mean_squared_error(y_val, y_val_pred)\n",
    "r2 = r2_score(y_val, y_val_pred)\n",
    "print(f\"Mean Absolute Error: {mae}\")\n",
    "print(f\"Mean Squared Error: {mse}\")\n",
    "print(f\"R2 Score: {r2}\")\n"
   ],
   "outputs": [
    {
     "name": "stdout",
     "output_type": "stream",
     "text": [
      "Mean Absolute Error: 25465.3785309122\n",
      "Mean Squared Error: 2422301666.272071\n",
      "R2 Score: 0.6699711823154034\n"
     ]
    }
   ],
   "execution_count": 26
  },
  {
   "metadata": {
    "ExecuteTime": {
     "end_time": "2024-11-27T19:54:01.802395Z",
     "start_time": "2024-11-27T19:54:01.786079Z"
    }
   },
   "cell_type": "code",
   "source": [
    "X_test_selected = sfs.transform(X_test_scaled)\n",
    "y_test_pred = lasso_cv.predict(X_test_selected)\n",
    "mae = mean_absolute_error(y_test, y_test_pred)\n",
    "mse = mean_squared_error(y_test, y_test_pred)\n",
    "r2 = r2_score(y_test, y_test_pred)\n",
    "print(f\"Mean Absolute Error: {mae}\")\n",
    "print(f\"Mean Squared Error: {mse}\")\n",
    "print(f\"R2 Score: {r2}\")\n"
   ],
   "outputs": [
    {
     "name": "stdout",
     "output_type": "stream",
     "text": [
      "Mean Absolute Error: 25167.027185596788\n",
      "Mean Squared Error: 5587354215.941903\n",
      "R2 Score: 0.3603665150756922\n"
     ]
    }
   ],
   "execution_count": 28
  },
  {
   "metadata": {
    "ExecuteTime": {
     "end_time": "2024-11-27T20:53:16.474345Z",
     "start_time": "2024-11-27T20:53:16.448902Z"
    }
   },
   "cell_type": "code",
   "source": [
    "def forward_feature_selection_with_validation(X_train, y_train, X_val, y_val,model,scoring='mse', max_features=None):\n",
    "\n",
    "    selected_features = []\n",
    "    remaining_features = list(range(X_train.shape[1]))\n",
    "    validation_scores = []\n",
    "\n",
    "    if max_features is None:\n",
    "        max_features = X_train.shape[1]\n",
    "\n",
    "    best_score = float('inf') if scoring in ['mse', 'mae'] else float('-inf')\n",
    "\n",
    "    for _ in range(max_features):\n",
    "        best_feature = None\n",
    "        best_feature_score = best_score\n",
    "\n",
    "        for feature in remaining_features:\n",
    "            features_to_test = selected_features + [feature]\n",
    "            X_train_subset = X_train[:, features_to_test]\n",
    "            X_val_subset = X_val[:, features_to_test]\n",
    "\n",
    "            model.fit(X_train_subset, y_train)\n",
    "\n",
    "            y_val_pred = model.predict(X_val_subset)\n",
    "\n",
    "            if scoring == 'mse':\n",
    "                score = mean_squared_error(y_val, y_val_pred)\n",
    "                is_better = score < best_feature_score  \n",
    "            elif scoring == 'mae':\n",
    "                score = mean_absolute_error(y_val, y_val_pred)\n",
    "                is_better = score < best_feature_score\n",
    "            elif scoring == 'r2':\n",
    "                score = model.score(X_val_subset, y_val)\n",
    "                is_better = score > best_feature_score  \n",
    "            else:\n",
    "                raise ValueError(\"Unsupported scoring metric. Use 'mse' or 'r2'.\")\n",
    "\n",
    "            if is_better:\n",
    "                best_feature_score = score\n",
    "                best_feature = feature\n",
    "\n",
    "        if best_feature is not None:\n",
    "            selected_features.append(best_feature)\n",
    "            validation_scores.append(best_feature_score)\n",
    "            remaining_features.remove(best_feature)\n",
    "            best_score = best_feature_score \n",
    "        else:\n",
    "            break  \n",
    "\n",
    "    return selected_features, validation_scores"
   ],
   "outputs": [],
   "execution_count": 39
  },
  {
   "metadata": {
    "ExecuteTime": {
     "end_time": "2024-11-27T20:53:48.989689Z",
     "start_time": "2024-11-27T20:53:45.313137Z"
    }
   },
   "cell_type": "code",
   "source": [
    "selected_features, validation_scores = forward_feature_selection_with_validation(\n",
    "    X_train_scaled, y_train, X_val_scaled, y_val, scoring='mae', max_features=None,model=lasso_cv\n",
    ")\n",
    "\n",
    "# Output the results\n",
    "print(\"Selected Features:\", selected_features)\n",
    "print(\"Validation Scores:\", validation_scores)"
   ],
   "outputs": [
    {
     "name": "stdout",
     "output_type": "stream",
     "text": [
      "Selected Features: [5, 1, 9, 0]\n",
      "Validation Scores: [27585.41326915344, 22600.675606321693, 22599.988482148186, 22599.97593877443]\n"
     ]
    }
   ],
   "execution_count": 41
  }
 ],
 "metadata": {
  "kernelspec": {
   "display_name": ".venv",
   "language": "python",
   "name": "python3"
  },
  "language_info": {
   "codemirror_mode": {
    "name": "ipython",
    "version": 3
   },
   "file_extension": ".py",
   "mimetype": "text/x-python",
   "name": "python",
   "nbconvert_exporter": "python",
   "pygments_lexer": "ipython3",
   "version": "3.12.1"
  }
 },
 "nbformat": 4,
 "nbformat_minor": 2
}
